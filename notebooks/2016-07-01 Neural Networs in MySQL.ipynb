{
 "cells": [
  {
   "cell_type": "code",
   "execution_count": 3,
   "metadata": {
    "collapsed": false
   },
   "outputs": [
    {
     "data": {
      "text/html": [
       "\n",
       "<style>\n",
       "img {\n",
       "    display: inline;\n",
       "    text-align: center;\n",
       "}\n",
       ".center {\n",
       "    text-align: center;\n",
       "}\n",
       "</style>\n"
      ],
      "text/plain": [
       "<IPython.core.display.HTML object>"
      ]
     },
     "execution_count": 3,
     "metadata": {},
     "output_type": "execute_result"
    }
   ],
   "source": [
    "from IPython.core.display import HTML\n",
    "HTML(\"\"\"\n",
    "<style>\n",
    "img {\n",
    "    display: inline;\n",
    "    text-align: center;\n",
    "}\n",
    ".center {\n",
    "    text-align: center;\n",
    "}\n",
    "</style>\n",
    "\"\"\")"
   ]
  },
  {
   "cell_type": "markdown",
   "metadata": {},
   "source": [
    "On the [Cross Validate](http://stats.stackexchange.com/) website one person asked for a code that implements neural network in SQL and it caught my attention so I decided to give it a try. Unfortunately, the queston have been deleted from the website, but I've managed to get a screen shot from the cached web page in the google search. So here it is:\n",
    "\n",
    "![](/images/cv-question.png)"
   ]
  },
  {
   "cell_type": "markdown",
   "metadata": {},
   "source": [
    "The question is kind of funny, but I can understand why the person asked such a question. Lots of papers and books can look a bit complicated and ovewhelming due to math and terminology that is used and people try to find a more familiar way for them to understand neural networks. Anyway, the question in some way looks interesting to me. After reading that, I started thinking how it can be implemented and then I came up with a simple solution that I'm going to present here as a main point of this article.\n",
    "\n",
    "Before I start I would like to clarify a few things. So the first one is that it's not a real work or something that you can use practically, I made it just for fun. The solution is not flexible and it's hard to scale it (but possible). The second thing is that I've made a simple working prototype, so there are probably some places in the code that can be optimized and simplified, but again, I don't care about the speed or accuracy. The main point is to make it work. However, I will be happy to add some improvements to the code if somebody is interested."
   ]
  },
  {
   "cell_type": "markdown",
   "metadata": {},
   "source": [
    "I've added three tables that contain the most important information. The Dataset and DatasetClass tables contain all the information about the dataset. As you can see in the figure below, the tables have a very simpe structure, but if you look closely at Dataset and Parameters tables, they might appear a bit odd. Basically, they are matrices. Each row stores information about a cell in this matrix. There are three main properties that each cell value from the matrix should have: row index, column index and value. Why this format is better, we will see soon."
   ]
  },
  {
   "cell_type": "markdown",
   "metadata": {},
   "source": [
    "<p class=\"center\">\n",
    "<img src=\"/images/nnet-scheme.png\">\n",
    "</p>"
   ]
  },
  {
   "cell_type": "markdown",
   "metadata": {
    "collapsed": true
   },
   "source": [
    "Since the database scheme has been created, we are able to add the data inside the Dataset table. I've used a toy dataset for simplicity. Here's how it looks like."
   ]
  },
  {
   "cell_type": "code",
   "execution_count": 6,
   "metadata": {
    "collapsed": false
   },
   "outputs": [
    {
     "data": {
      "image/png": "[encoded data removed]",
      "text/plain": [
       "<matplotlib.figure.Figure at 0x1078b2d68>"
      ]
     },
     "metadata": {},
     "output_type": "display_data"
    }
   ],
   "source": [
    "import numpy as np\n",
    "from sklearn import datasets\n",
    "import matplotlib.pyplot as plt\n",
    "\n",
    "%matplotlib inline\n",
    "\n",
    "plt.style.use('ggplot')\n",
    "np.random.seed(0)\n",
    "\n",
    "data, target = datasets.make_blobs(n_samples=50, n_features=2,\n",
    "                                   centers=2)\n",
    "\n",
    "plt.figure(figsize=(12, 8))\n",
    "plt.scatter(*data.T, c=target, s=50)\n",
    "\n",
    "plt.title(\"Simple classification dataset\")\n",
    "plt.xlabel(\"Feature #1\")\n",
    "plt.ylabel(\"Feature #2\")\n",
    "plt.show()"
   ]
  },
  {
   "cell_type": "markdown",
   "metadata": {},
   "source": [
    "As you can see, the classification task is very simple and it is going to be easier to find a good solution using a simple neural network without hidden layers."
   ]
  },
  {
   "cell_type": "code",
   "execution_count": 2,
   "metadata": {
    "collapsed": false
   },
   "outputs": [],
   "source": [
    "# for row in np.concatenate([data, target.reshape((-1, 1))], axis=1):\n",
    "#     print(\"({:.7f}, {:.7f}, {:.0f}),\".format(*row))"
   ]
  },
  {
   "cell_type": "markdown",
   "metadata": {},
   "source": [
    "Next we need to define a default parameters for the network."
   ]
  },
  {
   "cell_type": "markdown",
   "metadata": {},
   "source": [
    "{% highlight sql %}\n",
    "INSERT INTO Parameters VALUES\n",
    "(1, 1, RAND(123) - 0.5), -- Weight #1\n",
    "(2, 1, RAND(234) - 0.5), -- Weight #2\n",
    "(3, 1, RAND(345) - 0.5); -- Bias\n",
    "{% endhighlight %}"
   ]
  },
  {
   "cell_type": "markdown",
   "metadata": {},
   "source": [
    "There is an important thing that should be noted about the code above. The random functions include seed parameter. It means that all the weight will be reproducible, but you can withdraw it if you want."
   ]
  },
  {
   "cell_type": "markdown",
   "metadata": {},
   "source": [
    "Here is the weights that you should see in the Parameters table.\n",
    "\n",
    "|RowIndex|ColumnIndex|Weight|\n",
    "|-------|-----|-----|\n",
    "|1|1|0.4277429|\n",
    "|2|1|0.1980680|\n",
    "|3|1|-0.0316069|"
   ]
  },
  {
   "cell_type": "markdown",
   "metadata": {},
   "source": [
    "Now tables contain all data that we need. Next we need to have a function that trains the network. This step is a bit more complicated. I've splitted the training function into small pieces that are easier to implement.\n",
    "\n",
    "1. Matrix product between weights and dataset\n",
    "2. Output computation from network\n",
    "3. Error calculation\n",
    "4. Gradients computation\n",
    "5. Weights updating using gradient descent algorithm"
   ]
  },
  {
   "cell_type": "markdown",
   "metadata": {},
   "source": [
    "The first step is not as easy as it may seem. But I tried to do it as simple as possible. I made all sum and product operations within all columns and parameters in the SQL select statement. This solution is not flexible at all. But here is a more flexible way to do the matrix product in MySQL."
   ]
  },
  {
   "cell_type": "markdown",
   "metadata": {},
   "source": [
    "{% highlight sql %}\n",
    "CREATE TABLE InputData (\n",
    "    RowIndex INT,\n",
    "    ColumnIndex INT,\n",
    "    CellValue Double(10, 7)\n",
    ");\n",
    "\n",
    "INSERT INTO InputData VALUES\n",
    "(1, 1, 1),\n",
    "(1, 2, 2),\n",
    "(1, 3, 3),\n",
    "(2, 1, 4),\n",
    "(2, 2, 5),\n",
    "(2, 3, 6);\n",
    "\n",
    "CREATE TABLE NNParameters (\n",
    "    RowIndex INT,\n",
    "    ColumnIndex INT,\n",
    "    Weight DECIMAL(10, 7)\n",
    ");\n",
    "\n",
    "INSERT INTO NNParameters VALUES\n",
    "(1, 1, 1),\n",
    "(1, 2, 2),\n",
    "(2, 1, 3),\n",
    "(2, 2, 4),\n",
    "(3, 1, 5),\n",
    "(3, 2, 6);\n",
    "\n",
    "SELECT\n",
    "    InputData.RowIndex,\n",
    "    NNParameters.ColumnIndex, \n",
    "    SUM(Weight * CellValue) as MatrixProductValue\n",
    "FROM InputData\n",
    "CROSS JOIN NNParameters\n",
    "    ON InputData.ColumnIndex = NNParameters.RowIndex\n",
    "GROUP BY\n",
    "    InputData.RowIndex,\n",
    "    NNParameters.ColumnIndex;\n",
    "{% endhighlight %}"
   ]
  },
  {
   "cell_type": "markdown",
   "metadata": {},
   "source": [
    "The code above makes simple matrix product operation between two matrices. Here is how the same code looks in terms of mathematical formulation:"
   ]
  },
  {
   "cell_type": "markdown",
   "metadata": {},
   "source": [
    "$$\n",
    "\\begin{bmatrix}\n",
    "    1 & 2 & 3 \\\\\n",
    "    4 & 5 & 6 \\\\\n",
    "\\end{bmatrix}\n",
    "\\cdot\n",
    "\\begin{bmatrix}\n",
    "    1 & 2 \\\\\n",
    "    3 & 4 \\\\\n",
    "    5 & 6 \\\\\n",
    "\\end{bmatrix}\n",
    "=\n",
    "\\begin{bmatrix}\n",
    "    22 & 28 \\\\\n",
    "    49 & 64 \\\\\n",
    "\\end{bmatrix}\n",
    "$$"
   ]
  },
  {
   "cell_type": "markdown",
   "metadata": {},
   "source": [
    "If you run the previous code you will get this table:"
   ]
  },
  {
   "cell_type": "markdown",
   "metadata": {},
   "source": [
    "|RowIndex|ColumnIndex|MatrixProductValue|\n",
    "|-|-|----------|\n",
    "|1|1|22.0000000|\n",
    "|1|2|28.0000000|\n",
    "|2|1|49.0000000|\n",
    "|2|2|64.0000000|\n"
   ]
  },
  {
   "cell_type": "markdown",
   "metadata": {},
   "source": [
    "It's easy to read the table. But if you had more elements in matrix it wouldn't be like that."
   ]
  },
  {
   "cell_type": "markdown",
   "metadata": {},
   "source": [
    "Next step is a nonlinearity. In MySQL it is easy to make a function."
   ]
  },
  {
   "cell_type": "markdown",
   "metadata": {},
   "source": [
    "{% highlight sql %}\n",
    "DELIMITER //\n",
    "CREATE FUNCTION SIGMOID(x DECIMAL(10, 7))\n",
    "    RETURNS DECIMAL(10, 7)\n",
    "    READS SQL DATA\n",
    "    DETERMINISTIC\n",
    "    BEGIN\n",
    "        RETURN 1 / (1 + EXP(-x));\t\n",
    "    END//\n",
    "DELIMITER ;\n",
    "{% endhighlight %}"
   ]
  },
  {
   "cell_type": "markdown",
   "metadata": {},
   "source": [
    "As an error function I used cross entropy. I defined it in a similar way with a few other function that will become useful later in process. So now we can create a forward propagation throught the network and compute its loss. Let's put everything together and see what we get."
   ]
  },
  {
   "cell_type": "markdown",
   "metadata": {},
   "source": [
    "{% highlight sql %}\n",
    "SELECT\n",
    "    Dataset.RowIndex,\n",
    "    SIGMOID(SUM(Weight * CellValue)) as Output\n",
    "FROM Dataset\n",
    "CROSS JOIN Parameters\n",
    "    ON Dataset.ColumnIndex = Parameters.RowIndex\n",
    "GROUP BY Dataset.RowIndex, Parameters.ColumnIndex\n",
    "{% endhighlight %}"
   ]
  },
  {
   "cell_type": "markdown",
   "metadata": {},
   "source": [
    "The last query makes a forward propagation through the network and produces two values. The first one is a row index that defines sample from the dataset. And the second one is a network output that defines probability. Here is network's prediction for the first five samples:"
   ]
  },
  {
   "cell_type": "markdown",
   "metadata": {},
   "source": [
    "|RowIndex|Output|\n",
    "|--------|------|\n",
    "|1|0.6848528|\n",
    "|2|0.7493200|\n",
    "|3|0.8303425|\n",
    "|4|0.8625787|\n",
    "|5|0.7528145|\n"
   ]
  },
  {
   "cell_type": "markdown",
   "metadata": {},
   "source": [
    "We can easely check the accuracy score"
   ]
  },
  {
   "cell_type": "markdown",
   "metadata": {},
   "source": [
    "{% highlight sql %}\n",
    "SELECT\n",
    "    AVG(CAST(Class AS UNSIGNED) = ROUND(Result.Output)) as Accuracy\n",
    "FROM (\n",
    "    SELECT\n",
    "        Dataset.RowIndex,\n",
    "        SIGMOID(SUM(Weight * CellValue)) as Output\n",
    "    FROM Dataset\n",
    "    CROSS JOIN Parameters\n",
    "        ON Dataset.ColumnIndex = Parameters.RowIndex\n",
    "    GROUP BY Dataset.RowIndex, Parameters.ColumnIndex\n",
    ") as Result\n",
    "LEFT JOIN DatasetClass\n",
    "ON DatasetClass.RowIndex = Result.RowIndex;\n",
    "{% endhighlight %}"
   ]
  },
  {
   "cell_type": "markdown",
   "metadata": {},
   "source": [
    "|Accuracy|\n",
    "|--------|\n",
    "|0.5000|"
   ]
  },
  {
   "cell_type": "markdown",
   "metadata": {},
   "source": [
    "The next step is a backward propagation. I tried a solution that will be flexible and can be useful for datasets that have arbitrary number of features. So I started the backward propagation with an update step. Here is how I managed to do the weight update procedure:"
   ]
  },
  {
   "cell_type": "markdown",
   "metadata": {
    "collapsed": true
   },
   "source": [
    "{% highlight sql %}\n",
    "UPDATE Parameters\n",
    "LEFT JOIN (\n",
    "    -- TODO: Add SQL Query that computes gradients\n",
    ") as Updates\n",
    "ON Updates.ColumnIndex = Parameters.RowIndex\n",
    "SET Weight = Weight - Step * Updates.Gradient;\n",
    "{% endhighlight %}"
   ]
  },
  {
   "cell_type": "markdown",
   "metadata": {},
   "source": [
    "And finally, we can compute the gradient."
   ]
  },
  {
   "cell_type": "markdown",
   "metadata": {},
   "source": [
    "{% highlight sql %}\n",
    "SELECT\n",
    "    Dataset.ColumnIndex,\n",
    "    AVG(R.IncompleteGradient * CellValue) as Gradient\n",
    "FROM(\n",
    "    SELECT \n",
    "        Result.RowIndex,\n",
    "        Result.ColumnIndex,\n",
    "        GRAD_CROSSENTROPY(DatasetClass.Class, Output) *\n",
    "            Output * (1 - Output) as IncompleteGradient\n",
    "    FROM (\n",
    "        -- Query that computes output from the network\n",
    "    ) as Result\n",
    "    LEFT JOIN DatasetClass\n",
    "    ON DatasetClass.RowIndex = Result.RowIndex\n",
    ") as R\n",
    "CROSS JOIN Dataset ON Dataset.RowIndex = R.RowIndex\n",
    "GROUP BY R.ColumnIndex, Dataset.ColumnIndex\n",
    "{% endhighlight %}"
   ]
  },
  {
   "cell_type": "markdown",
   "metadata": {},
   "source": [
    "At this point we have everything we need to train the network. Now we can combine everything in MySQL procedure. That takes two parameters: step size and number of epochs."
   ]
  },
  {
   "cell_type": "markdown",
   "metadata": {},
   "source": [
    "{% highlight sql %}\n",
    "CREATE PROCEDURE Training(Epochs INT, Step DECIMAL(10, 7))\n",
    "BEGIN\n",
    "    DECLARE i INT;\n",
    "    SET i = 1;\n",
    "    \n",
    "    WHILE i <= Epochs DO\n",
    "        SET i = i + 1;\n",
    "        -- Update weights\n",
    "    END WHILE;\n",
    "END//\n",
    "DELIMITER ;\n",
    "{% endhighlight %}"
   ]
  },
  {
   "cell_type": "markdown",
   "metadata": {},
   "source": [
    "And that's it. Let's try to train the network."
   ]
  },
  {
   "cell_type": "markdown",
   "metadata": {},
   "source": [
    "{% highlight sql %}\n",
    "CALL TrainNetwork(7000, 0.01);\n",
    "{% endhighlight %}"
   ]
  },
  {
   "cell_type": "markdown",
   "metadata": {
    "collapsed": true
   },
   "source": [
    "I've trained it for 7000 epochs with step size equals to 0,01. Let's check the accuracy."
   ]
  },
  {
   "cell_type": "markdown",
   "metadata": {},
   "source": [
    "|Accuracy|\n",
    "|--------|\n",
    "|0.9800|"
   ]
  },
  {
   "cell_type": "markdown",
   "metadata": {},
   "source": [
    "Awesome! The network has been trained succesfully.\n",
    "\n",
    "All the code you can find in the [GitHub repository](https://github.com/itdxer/Neural-Network-in-MySQL)."
   ]
  },
  {
   "cell_type": "code",
   "execution_count": null,
   "metadata": {
    "collapsed": true
   },
   "outputs": [],
   "source": []
  }
 ],
 "metadata": {
  "kernelspec": {
   "display_name": "Python 3",
   "language": "python",
   "name": "python3"
  },
  "language_info": {
   "codemirror_mode": {
    "name": "ipython",
    "version": 3
   },
   "file_extension": ".py",
   "mimetype": "text/x-python",
   "name": "python",
   "nbconvert_exporter": "python",
   "pygments_lexer": "ipython3",
   "version": "3.4.3"
  }
 },
 "nbformat": 4,
 "nbformat_minor": 0
}
