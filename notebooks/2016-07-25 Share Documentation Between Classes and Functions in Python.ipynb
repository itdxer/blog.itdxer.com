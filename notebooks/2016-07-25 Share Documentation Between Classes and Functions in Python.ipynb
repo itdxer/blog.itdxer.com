{
 "cells": [
  {
   "cell_type": "code",
   "execution_count": 1,
   "metadata": {
    "collapsed": false
   },
   "outputs": [
    {
     "name": "stdout",
     "output_type": "stream",
     "text": [
      "Python: 3.4.3\n",
      "NeuPy: 0.3.0\n"
     ]
    }
   ],
   "source": [
    "import neupy\n",
    "from platform import python_version\n",
    "\n",
    "print(\"Python: {}\".format(python_version()))\n",
    "print(\"NeuPy: {}\".format(neupy.__version__))"
   ]
  },
  {
   "cell_type": "code",
   "execution_count": 2,
   "metadata": {
    "collapsed": true
   },
   "outputs": [],
   "source": [
    "class Person(object):\n",
    "    \"\"\"\n",
    "    Person class.\n",
    "\n",
    "    Parameters\n",
    "    ----------\n",
    "    fullname : str\n",
    "        Full name.\n",
    "    height : float\n",
    "        Height in meters (m).\n",
    "    weight : float\n",
    "        Weight in kilograms (kg).\n",
    "    \"\"\"\n",
    "    def __init__(self, fullname, height, weight):\n",
    "        self.fullname = fullname\n",
    "        self.height = height\n",
    "        self.weight = weight"
   ]
  },
  {
   "cell_type": "code",
   "execution_count": 3,
   "metadata": {
    "collapsed": false
   },
   "outputs": [
    {
     "name": "stdout",
     "output_type": "stream",
     "text": [
      "Help on Person in module __main__ object:\n",
      "\n",
      "class Person(builtins.object)\n",
      " |  Person class.\n",
      " |  \n",
      " |  Parameters\n",
      " |  ----------\n",
      " |  fullname : str\n",
      " |      Full name.\n",
      " |  height : float\n",
      " |      Height in meters (m).\n",
      " |  weight : float\n",
      " |      Weight in kilograms (kg).\n",
      " |  \n",
      " |  Methods defined here:\n",
      " |  \n",
      " |  __init__(self, fullname, height, weight)\n",
      " |  \n",
      " |  ----------------------------------------------------------------------\n",
      " |  Data descriptors defined here:\n",
      " |  \n",
      " |  __dict__\n",
      " |      dictionary for instance variables (if defined)\n",
      " |  \n",
      " |  __weakref__\n",
      " |      list of weak references to the object (if defined)\n",
      "\n"
     ]
    }
   ],
   "source": [
    "john = Person(fullname=\"John Smith\", height=1.8, weight=90)\n",
    "help(john)"
   ]
  },
  {
   "cell_type": "code",
   "execution_count": 4,
   "metadata": {
    "collapsed": true
   },
   "outputs": [],
   "source": [
    "class Doctor(Person):\n",
    "    \"\"\"\n",
    "    Doctor class.\n",
    "\n",
    "    Parameters\n",
    "    ----------\n",
    "    fullname : str\n",
    "        Full name.\n",
    "    height : float\n",
    "        Height in meters (m).\n",
    "    weight : float\n",
    "        Weight in kilograms (kg).\n",
    "    specialty : list of str\n",
    "        Doctor's speciality.\n",
    "    \"\"\"\n",
    "    def __init__(self, specialty, *args, **kwargs):\n",
    "        super(Doctor, self).__init__(*args, **kwargs)\n",
    "        self.specialty = specialty"
   ]
  },
  {
   "cell_type": "code",
   "execution_count": 5,
   "metadata": {
    "collapsed": false
   },
   "outputs": [
    {
     "name": "stdout",
     "output_type": "stream",
     "text": [
      "Couldn't import dot_parser, loading of dot files will not be possible.\n"
     ]
    }
   ],
   "source": [
    "from neupy.core.docs import SharedDocs\n",
    "\n",
    "class Person(SharedDocs):\n",
    "    \"\"\"\n",
    "    Person class.\n",
    "\n",
    "    Parameters\n",
    "    ----------\n",
    "    fullname : str\n",
    "        Full name.\n",
    "    height : float\n",
    "        Height in meters (m).\n",
    "    weight : float\n",
    "        Weight in kilograms (kg).\n",
    "    \"\"\"\n",
    "    def __init__(self, fullname, height, weight):\n",
    "        self.fullname = fullname\n",
    "        self.height = height\n",
    "        self.weight = weight"
   ]
  },
  {
   "cell_type": "code",
   "execution_count": 6,
   "metadata": {
    "collapsed": true
   },
   "outputs": [],
   "source": [
    "class Doctor(Person):\n",
    "    \"\"\"\n",
    "    Doctor class.\n",
    "\n",
    "    Parameters\n",
    "    ----------\n",
    "    {Person.fullname}\n",
    "    {Person.height}\n",
    "    {Person.weight}\n",
    "    specialty : list of str\n",
    "        Doctor's speciality.\n",
    "    \"\"\"\n",
    "    def __init__(self, specialty, *args, **kwargs):\n",
    "        super(Doctor, self).__init__(*args, **kwargs)\n",
    "        self.specialty = specialty"
   ]
  },
  {
   "cell_type": "code",
   "execution_count": 7,
   "metadata": {
    "collapsed": true
   },
   "outputs": [],
   "source": [
    "class Doctor(Person):\n",
    "    \"\"\"\n",
    "    Doctor class.\n",
    "\n",
    "    Parameters\n",
    "    ----------\n",
    "    {Person.Parameters}\n",
    "    specialty : list of str\n",
    "        Doctor's speciality.\n",
    "    \"\"\"\n",
    "    def __init__(self, specialty, *args, **kwargs):\n",
    "        super(Doctor, self).__init__(*args, **kwargs)\n",
    "        self.specialty = specialty"
   ]
  },
  {
   "cell_type": "code",
   "execution_count": 8,
   "metadata": {
    "collapsed": false
   },
   "outputs": [
    {
     "name": "stdout",
     "output_type": "stream",
     "text": [
      "Help on class Doctor in module __main__:\n",
      "\n",
      "class Doctor(Person)\n",
      " |  Doctor class.\n",
      " |  \n",
      " |  Parameters\n",
      " |  ----------\n",
      " |  fullname : str\n",
      " |      Full name.\n",
      " |  height : float\n",
      " |      Height in meters (m).\n",
      " |  weight : float\n",
      " |      Weight in kilograms (kg).\n",
      " |  specialty : list of str\n",
      " |      Doctor's speciality.\n",
      " |  \n",
      " |  Method resolution order:\n",
      " |      Doctor\n",
      " |      Person\n",
      " |      neupy.core.docs.SharedDocs\n",
      " |      builtins.object\n",
      " |  \n",
      " |  Methods defined here:\n",
      " |  \n",
      " |  __init__(self, specialty, *args, **kwargs)\n",
      " |      Initialize self.  See help(type(self)) for accurate signature.\n",
      " |  \n",
      " |  ----------------------------------------------------------------------\n",
      " |  Data descriptors inherited from neupy.core.docs.SharedDocs:\n",
      " |  \n",
      " |  __dict__\n",
      " |      dictionary for instance variables (if defined)\n",
      " |  \n",
      " |  __weakref__\n",
      " |      list of weak references to the object (if defined)\n",
      " |  \n",
      " |  ----------------------------------------------------------------------\n",
      " |  Data and other attributes inherited from neupy.core.docs.SharedDocs:\n",
      " |  \n",
      " |  inherit_method_docs = True\n",
      "\n"
     ]
    }
   ],
   "source": [
    "help(Doctor)"
   ]
  },
  {
   "cell_type": "code",
   "execution_count": 9,
   "metadata": {
    "collapsed": false
   },
   "outputs": [],
   "source": [
    "def tag(name, *inner_tags):\n",
    "    \"\"\"\n",
    "    Create HTML tag.\n",
    "\n",
    "    Parameters\n",
    "    ----------\n",
    "    name : str\n",
    "        HTML tag name.\n",
    "    *inner_tags\n",
    "        Children tags.\n",
    "    \"\"\"\n",
    "    return \"<{tag_name}>{}</{tag_name}>\".format(\n",
    "        ''.join(inner_tags),\n",
    "        tag_name=name\n",
    "    )"
   ]
  },
  {
   "cell_type": "code",
   "execution_count": 10,
   "metadata": {
    "collapsed": false
   },
   "outputs": [
    {
     "data": {
      "text/plain": [
       "'<span>Hello world</span>'"
      ]
     },
     "execution_count": 10,
     "metadata": {},
     "output_type": "execute_result"
    }
   ],
   "source": [
    "tag('span', 'Hello world')"
   ]
  },
  {
   "cell_type": "code",
   "execution_count": 11,
   "metadata": {
    "collapsed": true
   },
   "outputs": [],
   "source": [
    "from neupy.core.docs import shared_docs\n",
    "\n",
    "@shared_docs(tag)\n",
    "def h1(*inner_tags):\n",
    "    \"\"\"\n",
    "    Create level one header tag.\n",
    "\n",
    "    Parameters\n",
    "    ----------\n",
    "    {tag.inner_tags}\n",
    "    \"\"\"\n",
    "    return tag('h1', *inner_tags)\n",
    "\n",
    "@shared_docs(tag)\n",
    "def div(*inner_tags):\n",
    "    \"\"\"\n",
    "    Create div tag.\n",
    "\n",
    "    Parameters\n",
    "    ----------\n",
    "    {tag.inner_tags}\n",
    "    \"\"\"\n",
    "    return tag('div', *inner_tags)"
   ]
  },
  {
   "cell_type": "code",
   "execution_count": 12,
   "metadata": {
    "collapsed": false
   },
   "outputs": [
    {
     "name": "stdout",
     "output_type": "stream",
     "text": [
      "<div>\n",
      "  <div>\n",
      "    <h1>Title #1</h1>\n",
      "    <div>Some text</div>\n",
      "  </div>\n",
      "  <div>\n",
      "    <h1>Title #2</h1>\n",
      "    <div>Another text</div>\n",
      "  </div>\n",
      "</div>\n",
      "\n"
     ]
    }
   ],
   "source": [
    "from lxml import etree, html\n",
    "\n",
    "def prettify_html(html_string):\n",
    "    return etree.tostring(html.fromstring(html_string),\n",
    "                          encoding='unicode',\n",
    "                          pretty_print=True)\n",
    "\n",
    "html_page = div(\n",
    "    div(\n",
    "        h1('Title #1'),\n",
    "        div('Some text')\n",
    "    ),\n",
    "    div(\n",
    "        h1('Title #2'),\n",
    "        div('Another text')\n",
    "    )\n",
    ")\n",
    "\n",
    "print(prettify_html(html_page))"
   ]
  },
  {
   "cell_type": "code",
   "execution_count": 13,
   "metadata": {
    "collapsed": false
   },
   "outputs": [
    {
     "name": "stdout",
     "output_type": "stream",
     "text": [
      "Help on function div in module __main__:\n",
      "\n",
      "div(*inner_tags)\n",
      "    Create div tag.\n",
      "    \n",
      "    Parameters\n",
      "    ----------\n",
      "    *inner_tags\n",
      "        Children tags.\n",
      "\n"
     ]
    }
   ],
   "source": [
    "help(div)"
   ]
  }
 ],
 "metadata": {
  "kernelspec": {
   "display_name": "Python 3",
   "language": "python",
   "name": "python3"
  },
  "language_info": {
   "codemirror_mode": {
    "name": "ipython",
    "version": 3
   },
   "file_extension": ".py",
   "mimetype": "text/x-python",
   "name": "python",
   "nbconvert_exporter": "python",
   "pygments_lexer": "ipython3",
   "version": "3.4.3"
  }
 },
 "nbformat": 4,
 "nbformat_minor": 0
}
