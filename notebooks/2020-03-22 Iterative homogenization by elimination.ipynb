{
 "cells": [
  {
   "cell_type": "markdown",
   "metadata": {
    "deletable": true,
    "editable": true
   },
   "source": [
    "### Problem"
   ]
  },
  {
   "cell_type": "markdown",
   "metadata": {
    "deletable": true,
    "editable": true
   },
   "source": [
    "Let's say we have \\\\(S\\\\) objects and each object is associated with one of the \\\\(N\\\\) classes. There are \\\\(c_i\\\\) objects associated with the \\\\(i\\\\)-th class. We want to eliminate only \\\\(b\\\\) objects in a way that forms distribution of classes as close as possible to the uniformal distribution."
   ]
  },
  {
   "cell_type": "markdown",
   "metadata": {
    "deletable": true,
    "editable": true
   },
   "source": [
    "### Intuition"
   ]
  },
  {
   "cell_type": "markdown",
   "metadata": {
    "deletable": true,
    "editable": true
   },
   "source": [
    "Intuition suggests that we can eliminate one object at a time by selecting a class with the largest number of objects in it. It's not quite obvious whether this is the best strategy to follow. For example, we can start with the following distribution of classes - \\\\(c = [12, 6, 7, 13]\\\\). Next, we can eliminate 2 objects from it (\\\\(b = 2\\\\)).\n",
    "After elimination we can end up with 10 different outcomes. We can follow our initial strategy and end up with the following distribution: \\\\([12, 6, 7, 11]\\\\) (or \\\\([11, 6, 7, 12]\\\\)). Using some other strategy we can get a different outcome, for example, \\\\(c = [12, 6, 6, 12]\\\\). How do we know which one is closer to the uniformal distribution.\n",
    "\n",
    "The word \"closer\" impliest that we need to have a certain measure that allows us to measure homogenization of the distribution. In order to get the solution we need to better define our objective."
   ]
  },
  {
   "cell_type": "markdown",
   "metadata": {
    "deletable": true,
    "editable": true
   },
   "source": [
    "### Objective"
   ]
  },
  {
   "cell_type": "markdown",
   "metadata": {
    "deletable": true,
    "editable": true
   },
   "source": [
    "We can use Kullback–Leibler divergence (KL divergence) in order to measure homogenization of the distribution. We can normalize \\\\(c\\\\) in order to convert it to a probability distribution \\\\(p\\\\)\n",
    "\n",
    "$$\n",
    "p = [p_1, p_2, ..., p_N] \\\\\n",
    "p_i = \\frac{c_i}{\\sum_{j=1}^{N}{c_j}} \\\\\n",
    "$$\n",
    "\n",
    "And we can define desirable uniformal distribution\n",
    "\n",
    "$$\n",
    "u = [u_1, u_2, ..., u_N] \\\\\n",
    "u_i = \\frac{1}{N}\n",
    "$$\n",
    "\n",
    "KL divergence is not symmetric. Comparing \\\\(u\\\\) to \\\\(p\\\\) is not the same as comparing \\\\(p\\\\) to \\\\(u\\\\). We can show that for this problem both versions will lead to the same solution and order in which distributions are specified is not important for our purpose. \n",
    "\n",
    "We can start with the following definition\n",
    "\n",
    "$$\n",
    "D_{KL}(u \\, || \\, p) = \\sum_{i=1}^N{u_i \\log \\frac{u_i}{p_i} } \\\\\n",
    "$$\n",
    "\n",
    "For our problem we want to subtract \\\\(b\\\\) objects and after this we will end up with a distribution \\\\(q\\\\)\n",
    "\n",
    "$$\n",
    "q = [q_1, q_2, ..., q_N] \\\\\n",
    "q_i = \\frac{c_i - x_i}{\\sum_{j=1}^{N}{c_j - x_j}} \\text{, where} \\sum_{i=1}^{N}{x_i}=b\n",
    "$$\n",
    "\n",
    "Optimization could be sumarized in the following way\n",
    "\n",
    "$$\n",
    "\\begin{align}\n",
    "\\mathbf{\\min_x} \\, & D_{KL}(u \\, || \\, q)  & \\\\\n",
    "\\text{subject to: } & \\sum_{i=1}^{N}{x_i}=b  & \\\\\n",
    "                    &  x_i \\geq 0   & \\forall i=1,...,N\n",
    "\\end{align}\n",
    "$$"
   ]
  },
  {
   "cell_type": "markdown",
   "metadata": {
    "deletable": true,
    "editable": true
   },
   "source": [
    "### Solution"
   ]
  },
  {
   "cell_type": "markdown",
   "metadata": {
    "ExecuteTime": {
     "end_time": "2020-03-22T18:05:20.760388Z",
     "start_time": "2020-03-22T19:05:20.755243+01:00"
    },
    "deletable": true,
    "editable": true
   },
   "source": [
    "First, we can notice that original function that we want to opimize can be simplified\n",
    "\n",
    "$$\n",
    "\\underset{x}{\\operatorname{arg\\,min}} D_{KL}(u \\, || \\, q) = \\underset{x}{\\operatorname{arg\\,max}} \\sum_{i=1}^{N} \\log q_i\n",
    "$$\n",
    "\n",
    "\n",
    "We can use Karush–Kuhn–Tucker (KKT) conditions in order to solve this problem. Objective could be defined in the following way\n",
    "\n",
    "$$\n",
    "L(x, \\lambda, \\{\\eta_j\\}) = \\sum_{j=1}^{N} \\log q_j - \\lambda \\left(\\sum_{j=1}^{N}{x_j} - b \\right) + \\sum_{j=1}^{N} \\eta_j x_j\n",
    "$$\n",
    "\n",
    "and we need to solve the following equation in order to find optimal solution\n",
    "\n",
    "$$\n",
    "\\frac{\\partial}{\\partial x_i}\\left(\\sum_{j=1}^{N} \\log q_j\\right) - \\lambda + \\eta_j = 0\n",
    "$$\n",
    "\n",
    "we can rewrite this equation in order to have \\\\(x_i\\\\) specified explicitly\n",
    "\n",
    "$$\n",
    "-\\frac{1}{c_i - x_i} + \\frac{N}{\\sum_{j=1}^{N}{c_j - x_j}} = \\lambda - \\eta_i\n",
    "$$\n",
    "\n",
    "From the equation above we can notice that \n",
    "\n",
    "$$\n",
    "\\eta_i - \\frac{1}{c_i - x_i} = \\eta_j - \\frac{1}{c_j - x_j} \\text{, where} \\, i \\ne j\n",
    "$$\n",
    "\n",
    "From the Complementary slackness in the KKT conditions we know that \\\\(\\eta_i x_i = 0\\\\). This condition implies that \\\\(\\eta_i\\\\) and \\\\(x_i\\\\) cannot be non-zero values at the same time. We can consider two cases:\n",
    "\n",
    "1. There exists at least one more non-zero \\\\(x_i\\\\). From this assumption the following statement is true (since \\\\(\\eta_i = \\eta_j = 0\\\\))\n",
    "\n",
    "   $$ \n",
    "   \\frac{1}{c_i - x_i} = \\frac{1}{c_j - x_j} \\text{, where} \\, i \\ne j\n",
    "   $$\n",
    "   \n",
    "   This equation says that \\\\(c_i - x_i = c_j - x_j\\\\). This means that after elimination we should end up with exactly the same values in each category.\n",
    "   \n",
    "2. There exists at least on \\\\(x_i=0\\\\). From this assumption the following statement is true:\n",
    "\n",
    "   $$ \n",
    "   \\eta_i - \\frac{1}{c_i} = -\\frac{1}{c_j - x_j}\n",
    "   $$\n",
    "   \n",
    "   and since \\\\(\\eta_i \\ge 0\\\\) we get that \n",
    "   \n",
    "   $$\n",
    "   c_j \\gt c_j - x_j \\ge c_i\n",
    "   $$\n",
    "   \n",
    "   Since we assumed that \\\\(x_i=0\\\\) and \\\\(x_j \\ne 0\\\\) the equation above implies that every zero is associated with the smallest \\\\(c_i\\\\) value and every non-zero is associated with the largest \\\\(c_j\\\\) value. This observation matches our initial intuition. Equation implies that we should remove objects from the most common classes first."
   ]
  },
  {
   "cell_type": "markdown",
   "metadata": {
    "deletable": true,
    "editable": true
   },
   "source": [
    "### Algorithm"
   ]
  },
  {
   "cell_type": "markdown",
   "metadata": {},
   "source": [
    "There are multiple different algorithms that could be derived from the previous equations. We can find one by using the following definitions\n",
    "\n",
    "1. \\\\(A = \\\\{ i \\, \\| \\, x_i=0 \\\\} \\\\)\n",
    "2. \\\\(\\overset{\\\\_}{A} = \\\\{ i \\, \\| \\, x_i\\ne0 \\\\}\\\\)\n",
    "3. \\\\(\\|\\overset{\\\\_}{A}\\| = m \\\\) and \\\\(\\|A\\| = n- m \\\\)\n",
    "4. \\\\(\\sum_{i=1}^N{c_i} = C\\\\)\n",
    "5. \\\\( k = c_i - x_i, \\forall i \\in \\overset{-}{A}\\\\)\n",
    "6. \\\\(c_i \\le c_j, \\forall i \\le j \\\\) \n",
    "\n",
    "$$\n",
    "\\begin{align}\n",
    "\\sum_{i=1}^N{c_i - x_i} &= C - b \\\\\n",
    "\\sum_{j \\in A}{c_j} + \\sum_{i \\in \\overset{\\_}{A}}{c_i - x_i} &= C - b \\\\\n",
    "\\sum_{j \\in A}{c_j} + \\sum_{i \\in \\overset{\\_}{A}}{c_i - x_i} &= C - b \\\\\n",
    "\\sum_{j \\in A}{c_j} + m \\, k &= C - b \\\\\n",
    "k = \\frac{C - b - \\sum_{j \\in A}{c_j}}{m} &= \\frac{\\sum_{j \\in \\overset{\\_}{A}}{c_j} - b}{m}\n",
    "\\end{align}\n",
    "$$\n",
    "\n",
    "If we assume that there is at least one \\\\(x_i = 0\\\\) then the following should be true\n",
    "\n",
    "$$\n",
    "\\begin{align}\n",
    "c_{n-m} &\\le \\frac{\\sum_{j \\in \\overset{\\_}{A}}{c_j} - b}{m} \\\\\n",
    "b &\\le \\sum_{j \\in \\overset{\\_}{A}}{c_j} - m \\, c_{n-m}\n",
    "\\end{align}\n",
    "$$\n",
    "\n",
    "and this equation will work if \\\\(c_0 = 0\\\\) (which implies that we have N+1 category, but one additional category doesn't have objects in it).\n",
    "\n",
    "In addition, after some rearrangement of terms we can create the following equation.\n",
    "\n",
    "$$\n",
    "\\begin{align}\n",
    "b &\\le \\sum_{a = 1}^{m} a \\, (c_{n - a + 1} - c_{n - a})\n",
    "\\end{align}\n",
    "$$"
   ]
  },
  {
   "cell_type": "markdown",
   "metadata": {
    "deletable": true,
    "editable": true
   },
   "source": [
    "### Reversing order of distributions in the KL divergence function"
   ]
  },
  {
   "cell_type": "markdown",
   "metadata": {
    "collapsed": true,
    "deletable": true,
    "editable": true
   },
   "source": [
    "$$\n",
    "\\begin{align}\n",
    "\\mathbf{\\min_x} \\, & D_{KL}(q \\, || \\, u)  & \\\\\n",
    "\\text{subject to: } & \\sum_{i=1}^{N}{x_i}=b  & \\\\\n",
    "                    &  x_i \\geq 0   & \\forall i=1,...,N\n",
    "\\end{align}\n",
    "$$\n",
    "\n",
    "As before, main equation could be simplified\n",
    "\n",
    "$$\n",
    "\\underset{x}{\\operatorname{arg\\,min}} \\, D_{KL}(q \\, || \\, u) = \\underset{x}{\\operatorname{arg\\,min}} \\sum_{i=1}^{N} q_i \\log q_i\n",
    "$$\n",
    "\n",
    "On the right side, we have a negative entropy, and minimum will mean that we just need to maximize entropy of the distribution \\\\(q\\\\)\n",
    "\n",
    "$$\n",
    "\\underset{x}{\\operatorname{arg\\,min}} \\, D_{KL}(q \\, || \\, u) = \\underset{x}{\\operatorname{arg\\,max}} \\, H(q)\n",
    "$$"
   ]
  },
  {
   "cell_type": "markdown",
   "metadata": {},
   "source": [
    "\n",
    "$$\n",
    "L(x, \\lambda, \\{\\eta_j\\}) = \\sum_{j=1}^{N} q_j \\log q_j + \\lambda \\left(\\sum_{j=1}^{N}{x_j} - b \\right) - \\sum_{j=1}^{N} \\eta_j x_j\n",
    "$$"
   ]
  },
  {
   "cell_type": "markdown",
   "metadata": {},
   "source": [
    "from which follows that\n",
    "\n",
    "$$\n",
    "\\sum_{j=1}^{N} q_j \\log q_j - \\frac{\\log q_i}{S} + \\lambda - \\eta_i = 0 \\\\\n",
    "\\eta_i + \\frac{\\log q_i}{S} = \\lambda + \\frac{1}{S} \\sum_{j=1}^{N} q_j \\log q_j\n",
    "$$\n",
    "\n",
    "where \\\\(S = \\sum_{j=1}^{N} c_j - x_j \\\\)\n",
    "\n",
    "and based on the same logic as before we can show that \n",
    "\n",
    "$$\n",
    "\\eta_i + \\frac{\\log (c_i - x_i)}{S} = \\eta_j + \\frac{\\log (c_j - x_j)}{S}, \\forall i,j = 1...N\n",
    "$$\n",
    "\n",
    "And again, we can go through two cases:\n",
    "\n",
    "1. if we assume that \\\\(x_i=0\\\\) and \\\\(x_j\\ne0\\\\) then \\\\(c_j \\gt c_j - x_j \\ge c_i\\\\)\n",
    "2. if we assume that \\\\(x_i\\ne0\\\\) and \\\\(x_j\\ne0\\\\) then \\\\(c_j - x_j = c_i - x_i\\\\)\n",
    "\n",
    "The same conclusion could be drawn from these equations which shows that order of the distribution doesn't make a difference for this problem"
   ]
  },
  {
   "cell_type": "markdown",
   "metadata": {},
   "source": [
    "### Handling discrete cases"
   ]
  },
  {
   "cell_type": "markdown",
   "metadata": {},
   "source": [
    "Developed equations can produce non-integer solutions. These results won't be suitable for our initial problem. Solution could be easily modified in order to work with integers. First, we can notice that non-integer values will be produced only for cases when \\\\( \\sum_{j \\in \\overset{\\\\_}{A}}{c_j} - b \\\\) is not divisible by \\\\(m\\\\) without the remainder. Instead, we can ue the following equation\n",
    "\n",
    "$$\n",
    "k = \\left\\lceil\\frac{\\sum_{j \\in \\overset{\\_}{A}}{c_j} - b}{m}\\right\\rceil - s_j\n",
    "$$\n",
    "\n",
    "where\n",
    "\n",
    "$$\n",
    "s_j = \\begin{cases}\n",
    "1 &\\quad j \\gt n-r \\\\ \n",
    "0 &\\quad\\text{otherwise.} \n",
    "\\end{cases}\n",
    "$$\n",
    " \n",
    "and\n",
    "\n",
    "$$\n",
    "\\\\\n",
    "r = \\sum_{j \\in \\overset{-}{A}}{c_j} - b \\bmod {m}\n",
    "$$\n",
    "\n",
    " \n",
    "This is just one way of defining \\\\(s_j\\\\) function, but any strategy will work. It's asy to see why this solution is the best that we can get from the previous equations and given that \\\\(m\\\\) categories have exactly the same value it doesn't really matter from which of the categories we subtract remaining ones."
   ]
  },
  {
   "cell_type": "code",
   "execution_count": null,
   "metadata": {
    "collapsed": true
   },
   "outputs": [],
   "source": []
  }
 ],
 "metadata": {
  "kernelspec": {
   "display_name": "Python 3",
   "language": "python",
   "name": "python3"
  },
  "language_info": {
   "codemirror_mode": {
    "name": "ipython",
    "version": 3
   },
   "file_extension": ".py",
   "mimetype": "text/x-python",
   "name": "python",
   "nbconvert_exporter": "python",
   "pygments_lexer": "ipython3",
   "version": "3.6.0"
  },
  "toc": {
   "nav_menu": {},
   "number_sections": true,
   "sideBar": true,
   "skip_h1_title": false,
   "toc_cell": false,
   "toc_position": {},
   "toc_section_display": "block",
   "toc_window_display": false
  }
 },
 "nbformat": 4,
 "nbformat_minor": 2
}
