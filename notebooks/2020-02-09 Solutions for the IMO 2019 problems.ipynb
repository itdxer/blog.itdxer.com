{
 "cells": [
  {
   "cell_type": "markdown",
   "metadata": {},
   "source": [
    "My solutions for the IMO 2019 problems. I'm an amature in mathematics which means that these solutions might contain mistakes. Use them at your own risk"
   ]
  },
  {
   "cell_type": "markdown",
   "metadata": {},
   "source": [
    "## Problem 1"
   ]
  },
  {
   "cell_type": "markdown",
   "metadata": {},
   "source": [
    "![](http://blog.itdxer.com/images/imo-2019/imo-2019-problem-1.png)"
   ]
  },
  {
   "cell_type": "markdown",
   "metadata": {},
   "source": [
    "**Important observation:** Orders of the variables \\\\(a\\\\) and \\\\(b\\\\) matters on the left, but not on the right\n",
    "\n",
    "$$\n",
    "f(2a) + 2f(b) = f(f(a+b)) = f(2b) + 2f(a)\n",
    "$$"
   ]
  },
  {
   "cell_type": "markdown",
   "metadata": {},
   "source": [
    "Next we can explore a few corner cases\n",
    "\n",
    "**Explore function when a = 0**\n",
    "\n",
    "$$\n",
    "f(0) + 2f(b) = f(f(b)) \\\\\n",
    "f(2b) + 2f(0) = f(f(b))\n",
    "$$\n",
    "\n",
    "we can multiply first equation by 2 and subtract second equation from it\n",
    "\n",
    "$$\n",
    "4f(b) - f(2b) = f(f(b))\n",
    "$$\n",
    "\n",
    "therefore\n",
    "\n",
    "$$\n",
    "4f(b) - f(2b) = f(2b) + 2f(0) \\\\\n",
    "2f(b) - f(2b) = f(0) \\\\\n",
    "f(2b) = 2f(b) - f(0)\n",
    "$$\n",
    "\n",
    "and finally\n",
    "\n",
    "$$\n",
    "f(2b) + 2f(a) = 2f(b) - f(0) + 2f(a) = f(f(a+b))\n",
    "$$"
   ]
  },
  {
   "cell_type": "markdown",
   "metadata": {},
   "source": [
    "**Explore function for c = a + 1 and d = b - 1**"
   ]
  },
  {
   "cell_type": "markdown",
   "metadata": {},
   "source": [
    "$$\n",
    "2f(a + 1) + 2f(b - 1) - f(0) = f(f(a+b)) = 2f(a) + 2f(b) - f(0) \\\\\n",
    "f(a+1) - f(a) = f(b) - f(b - 1)\n",
    "$$\n",
    "\n",
    "\\\\(a\\\\) and \\\\(b\\\\) are independent from each other and we can set them equal to any integer number. Based on this fact the derived euqation implies that difference between function outputs evaluated on two subsequent integers is constant. This means that \\\\(\\,f\\\\) is a linear function\n",
    "\n",
    "$$\n",
    "f(a) = ka + c\n",
    "$$\n",
    "\n",
    "for some k and c"
   ]
  },
  {
   "cell_type": "markdown",
   "metadata": {},
   "source": [
    "**Replace f(a) by linear function**"
   ]
  },
  {
   "cell_type": "markdown",
   "metadata": {},
   "source": [
    "Let's plug this linear function into two different equations that we've derived before\n",
    "\n",
    "First, for cases when **b = 0**\n",
    "\n",
    "$$\n",
    "2f(a) + f(0) = f(f(a)) \\\\\n",
    "2\\,k\\,a + 3c = k^2a + kc + c \\\\\n",
    "2ka + 2c = k^2a + kc \\\\ \n",
    "4ka + 4c = 2k^2a + 2kc\n",
    "$$\n",
    "\n",
    "Second, for cases **a = b**\n",
    "\n",
    "$$\n",
    "2f(a) + 2f(a) - f(0) = f(f(2a)) \\\\\n",
    "4ka + 3c = 2k^2a + kc + c \\\\\n",
    "4ka + 2c = 2k^2a+kc\n",
    "$$\n",
    "\n",
    "We can subtract second equation from the first one and we will get that \\\\(2c = kc\\\\) which means that \\\\(k = 2\\\\)"
   ]
  },
  {
   "cell_type": "markdown",
   "metadata": {},
   "source": [
    "**Finding c**"
   ]
  },
  {
   "cell_type": "markdown",
   "metadata": {},
   "source": [
    "We can plug linear function with fixed k into the general formula\n",
    "\n",
    "$$\n",
    "f(2a) + 2f(b) = f(f(a+b)) \\\\\n",
    "4a + c + 4b + 2c = f(2a + 2b + c) \\\\\n",
    "4a + 4b + 3c = 4a + 4b + 3c\n",
    "$$\n",
    "\n",
    "this equality implies that relation will hold for any possible \\\\(c\\\\), but because we know that function \\\\(f\\\\) always outputs integers, it means that \\\\(c\\\\) has to be an integer."
   ]
  },
  {
   "cell_type": "markdown",
   "metadata": {},
   "source": [
    "## Problem 4\n",
    "\n",
    "![](http://blog.itdxer.com/images/imo-2019/imo-2019-problem-4.png)"
   ]
  },
  {
   "cell_type": "markdown",
   "metadata": {},
   "source": [
    "**Discovering solutions manually**"
   ]
  },
  {
   "cell_type": "markdown",
   "metadata": {},
   "source": [
    "It's easy to find a few simple solutions for small \\\\(n\\\\). For \\\\(n=1\\\\), \\\\(k=1\\\\) and for \\\\(n=2\\\\), \\\\(k = 3\\\\). It's interesting to note that for \\\\(n=4\\\\) we get \\\\(\\frac{8!}{2}\\\\) which is not a solution, but nevertheless it's pretty close."
   ]
  },
  {
   "cell_type": "markdown",
   "metadata": {},
   "source": [
    "**Rewriting expression with exponents**"
   ]
  },
  {
   "cell_type": "markdown",
   "metadata": {},
   "source": [
    "we can express every multiplier on the right hand side \\\\((2^n - 2^k)\\\\) with \\\\(2^k(2^{n-k} - 1)\\\\) and we will get\n",
    "$$\n",
    "(2^n - 1)(2^n - 2)(2^n - 4)...(2^n - 2^{n-1}) = 2^{\\frac{n(n-1)}{2}}\\prod^{n}_{m=1} (2^m - 1)\n",
    "$$"
   ]
  },
  {
   "cell_type": "markdown",
   "metadata": {},
   "source": [
    "Note that we separated odd from even numbers and in order to understand what kind of \\\\(k\\\\)s are possible we need to strudy odd numbers"
   ]
  },
  {
   "cell_type": "markdown",
   "metadata": {},
   "source": [
    "**Studying behaviour of the odd numbers**"
   ]
  },
  {
   "cell_type": "markdown",
   "metadata": {},
   "source": [
    "for \\\\(f(n) = 2^n - 1\\\\) and first few \\\\(n\\\\) values we get the following table\n",
    "\n",
    "| n  | f(n)      |\n",
    "|----|--------------|\n",
    "| 1  | 1            |\n",
    "| 2  | 3            |\n",
    "| 3  | 7            |\n",
    "|  4 | 15=3*5       |\n",
    "| 5  | 31           |\n",
    "| 6  | 63=3*3*7     |\n",
    "| 7  | 127          |\n",
    "| 8  | 255=3*5*17   |\n",
    "| 9  | 511=7*73     |\n",
    "| 10 | 1023=11*3*31 |"
   ]
  },
  {
   "cell_type": "markdown",
   "metadata": {},
   "source": [
    "From the table above we can make a few interesting observations\n",
    "\n",
    "1. for \\\\(n=5\\\\) we get 31, which is a prime number. It means that for \\\\(n \\ge 5\\\\), \\\\(k\\ge31\\\\)\n",
    "2. \\\\((2^n-1) \\mod 7 = 0\\\\) when \\\\(n\\\\) is divisible by 3\n",
    "3. \\\\((2^n-1) \\mod 5 = 0\\\\) when \\\\(n\\\\) is divisible by 4\n",
    "\n",
    "from 2nd and 3rd observations we can see that in the product \\\\(\\prod^{n}_{m=1} (2^m - 1)\\\\) we get more 5s than 7s which is quite unusual behaviour for the \\\\(k!\\\\) function, since there we expect more 5s than 7s \n",
    "\n",
    "it's easy to show that for any \\\\(n\\ge9\\\\) we will always have more 7s than 5s, which is a problem for \\\\(k!\\\\), since there we expect more 5s than 7s when we factorize \\\\(k!\\\\) into primes. This statement implies that we will never get any solutions for \\\\(n\\ge9\\\\)"
   ]
  },
  {
   "cell_type": "markdown",
   "metadata": {},
   "source": [
    "And finally, from the first most observation we can see that for \\\\(n\\ge5\\\\), \\\\(k\\ge31\\\\). We've already tested solutions for \\\\(1\\le n \\le 4\\\\) and found 2 solutions, but for \\\\(k\\ge31\\\\) we need to have way more factors that we really get from the \\\\(2^n-1\\\\) numbers multiplied together. For example, there is no prime number 29 in factorization from every \\\\(2^n-1\\\\) that we've calculated, which means that we don't have solutions from \\\\(n\\lt9\\\\) and therefore we don't have more solutions apart those that has been already discovered"
   ]
  },
  {
   "cell_type": "markdown",
   "metadata": {},
   "source": [
    "**All possible solutions**"
   ]
  },
  {
   "cell_type": "markdown",
   "metadata": {},
   "source": [
    "1. \\\\(n=1\\\\) and \\\\(k=1\\\\)\n",
    "2. \\\\(n=2\\\\) and \\\\(k=3\\\\)"
   ]
  },
  {
   "cell_type": "code",
   "execution_count": null,
   "metadata": {
    "collapsed": true
   },
   "outputs": [],
   "source": []
  }
 ],
 "metadata": {
  "kernelspec": {
   "display_name": "Python 3",
   "language": "python",
   "name": "python3"
  },
  "language_info": {
   "codemirror_mode": {
    "name": "ipython",
    "version": 3
   },
   "file_extension": ".py",
   "mimetype": "text/x-python",
   "name": "python",
   "nbconvert_exporter": "python",
   "pygments_lexer": "ipython3",
   "version": "3.6.0"
  },
  "toc": {
   "nav_menu": {},
   "number_sections": true,
   "sideBar": true,
   "skip_h1_title": false,
   "toc_cell": false,
   "toc_position": {},
   "toc_section_display": "block",
   "toc_window_display": false
  }
 },
 "nbformat": 4,
 "nbformat_minor": 2
}
