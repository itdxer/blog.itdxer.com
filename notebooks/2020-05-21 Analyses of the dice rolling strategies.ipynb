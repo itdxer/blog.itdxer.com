{
 "cells": [
  {
   "cell_type": "markdown",
   "metadata": {
    "deletable": true,
    "editable": true
   },
   "source": [
    "## Problem\n",
    "\n",
    "Problem from the [FiveThirtyEight](https://fivethirtyeight.com/features/can-you-find-the-best-dungeons-dragons-strategy/) website\n",
    "\n",
    "> The fifth edition of Dungeons & Dragons introduced a system of “advantage and disadvantage.” When you roll a die “with advantage,” you roll the die twice and keep the higher result. Rolling “with disadvantage” is similar, except you keep the lower result instead. The rules further specify that when a player rolls with both advantage and disadvantage, they cancel out, and the player rolls a single die. Yawn!\n",
    ">\n",
    "> There are two other, more mathematically interesting ways that advantage and disadvantage could be combined. First, you could have “advantage of disadvantage,” meaning you roll twice with disadvantage and then keep the higher result. Or, you could have “disadvantage of advantage,” meaning you roll twice with advantage and then keep the lower result. With a fair 20-sided die, which situation produces the highest expected roll: advantage of disadvantage, disadvantage of advantage or rolling a single die?\n",
    ">\n",
    "> Extra Credit: Instead of maximizing your expected roll, suppose you need to roll N or better with your 20-sided die. For each value of N, is it better to use advantage of disadvantage, disadvantage of advantage or rolling a single die?"
   ]
  },
  {
   "cell_type": "markdown",
   "metadata": {
    "deletable": true,
    "editable": true
   },
   "source": [
    "## Deriving statistics for 3 strategies"
   ]
  },
  {
   "cell_type": "markdown",
   "metadata": {
    "deletable": true,
    "editable": true
   },
   "source": [
    "### Notations"
   ]
  },
  {
   "cell_type": "markdown",
   "metadata": {
    "ExecuteTime": {
     "end_time": "2020-05-21T16:16:42.146643Z",
     "start_time": "2020-05-21T16:16:42.142068Z"
    },
    "deletable": true,
    "editable": true
   },
   "source": [
    "\n",
    "- \\\\(N\\\\) - number of sides on a die\n",
    "- \\\\(b\\\\) - number on one of the sides of the die, \\\\(b \\in [1, N]\\\\)\n",
    "- \\\\(x, y, z, u, v\\\\) - are results obtained from throwing a single die (results in range \\\\([1, N]\\\\))\n",
    "\n",
    "$$\n",
    "\\max(x, y)= \n",
    "\\begin{cases}\n",
    "    x,& \\text{if } x\\geq y\\\\\n",
    "    y,              & \\text{otherwise}\n",
    "\\end{cases}\n",
    "$$\n",
    "\n",
    "$$\n",
    "\\min(x, y)= \n",
    "\\begin{cases}\n",
    "    x,& \\text{if } x\\leq y\\\\\n",
    "    y,              & \\text{otherwise}\n",
    "\\end{cases}\n",
    "$$\n",
    "\n",
    "\n"
   ]
  },
  {
   "cell_type": "markdown",
   "metadata": {
    "deletable": true,
    "editable": true
   },
   "source": [
    "### Abbreviations"
   ]
  },
  {
   "cell_type": "markdown",
   "metadata": {
    "deletable": true,
    "editable": true
   },
   "source": [
    "- **PMF** - Probability mass funciton\n",
    "- **CMF** - Cumulative mass funciton"
   ]
  },
  {
   "cell_type": "markdown",
   "metadata": {
    "deletable": true,
    "editable": true
   },
   "source": [
    "### Rolling a signle die"
   ]
  },
  {
   "cell_type": "markdown",
   "metadata": {
    "ExecuteTime": {
     "end_time": "2020-05-21T16:15:27.554552Z",
     "start_time": "2020-05-21T16:15:27.548205Z"
    },
    "deletable": true,
    "editable": true
   },
   "source": [
    "PMF:\n",
    "\n",
    "$$\n",
    "p(b) = p(x = b) = \\frac{1}{N}\n",
    "$$\n",
    "\n",
    "CMF:\n",
    "\n",
    "$$\n",
    "P(b) = p(x \\le b) = \\frac{b}{N}\n",
    "$$"
   ]
  },
  {
   "cell_type": "markdown",
   "metadata": {
    "deletable": true,
    "editable": true
   },
   "source": [
    "### Advantages"
   ]
  },
  {
   "cell_type": "markdown",
   "metadata": {
    "deletable": true,
    "editable": true
   },
   "source": [
    "This strategy is only needed in order to calculate a bit more complicated strategies that are only based on advantages and disadvantages. We need to find PMF\n",
    "\n",
    "$$\n",
    "p(\\max(x, y) = b)\n",
    "$$\n",
    "\n",
    "This problem could be solved rather easily by noticing that \\\\(max(x, y)\\\\) equals \\\\(b\\\\) either when \\\\(x = y = b\\\\) or one of the variables is equal to \\\\(b\\\\) but the other is smaller than \\\\(b\\\\). When one value is smaller than the other because there are two possibilities in which either \\\\(x=b\\\\) or \\\\(y=b\\\\) which means we need to count these cases twice. These observations lead to the following PMF\n",
    "\n",
    "$$\n",
    "\\begin{align}\n",
    "p(\\max(x, y) = b) &= \\sum_{i=1}^{b-1} 2\\,p(b)\\,p(i) + p(b)\\,p(b) \\\\\n",
    "                 &= 2\\,p(b)\\,\\sum_{i=1}^{b-1} p(i) + p(b)^2 \\\\\n",
    "\\end{align}\n",
    "$$\n",
    "\n",
    "and by replacing \\\\(p(b)\\\\) and \\\\(p(i)\\\\) with PMF values from the single roll strategy we get the following PMF\n",
    "\n",
    "$$\n",
    "\\begin{align}\n",
    "p(\\max(x, y) = b) &= \\frac{2}{N}\\,\\sum_{i=1}^{b - 1} \\frac{1}{N} + \\frac{1}{N^2} \\\\\n",
    "                 &= \\frac{2b - 1}{N^2} \\\\\n",
    "\\end{align}\n",
    "$$"
   ]
  },
  {
   "cell_type": "markdown",
   "metadata": {
    "deletable": true,
    "editable": true
   },
   "source": [
    "### Disadvantages"
   ]
  },
  {
   "cell_type": "markdown",
   "metadata": {
    "deletable": true,
    "editable": true
   },
   "source": [
    "Similar logic could be applied to the disadvantages strategy in which case we will get the following PMF\n",
    "\n",
    "$$\n",
    "\\begin{align}\n",
    "p(\\min(x, y) = b) = 2\\,p(b)\\,\\sum_{i=b+1}^{N} p(i) + p(b)^2 \\\\\n",
    "\\end{align}\n",
    "$$\n",
    "\n",
    "and by replacing \\\\(p(b)\\\\) and \\\\(p(i)\\\\) with PMF values from the single roll strategy we get the following PMF\n",
    "\n",
    "$$\n",
    "\\begin{align}\n",
    "p(\\min(x, y) = b) &= \\frac{2}{N}\\,\\sum_{i=b+1}^{N} \\frac{1}{N} + \\frac{1}{N^2} \\\\\n",
    "                 &= \\frac{2 (N - b) + 1}{N^2} \\\\\n",
    "\\end{align}\n",
    "$$\n",
    "\n",
    "From PMF we can see that advantages and disadvantages have the same shape, expect that one distributions is a flipped version of the other distribution\n",
    "\n",
    "\n",
    "\n",
    "\n"
   ]
  },
  {
   "cell_type": "markdown",
   "metadata": {
    "deletable": true,
    "editable": true
   },
   "source": [
    "### Disadvantage of advantages"
   ]
  },
  {
   "cell_type": "markdown",
   "metadata": {
    "deletable": true,
    "editable": true
   },
   "source": [
    "For this problem general PMF formula for disadvantages could be applied here as well\n",
    "\n",
    "$$\n",
    "\\begin{align}\n",
    "p(\\min(\\max(x, y), \\max(u, v)) = b) = 2\\,p(b)\\,\\sum_{i=b+1}^{N} p(i) + p(b)^2 \\\\\n",
    "\\end{align}\n",
    "$$\n",
    "\n",
    "The only difference is that now we need to use PMF from advanages rather than from a single roll distribution\n",
    "\n",
    "$$\n",
    "\\begin{align}\n",
    "p(\\min(\\max(x, y), \\max(u, v)) = b)\n",
    "    &= \\left(\\frac{2b - 1}{N^2}\\right)^2 + 2 \\frac{2b - 1}{N^2} \\, \\sum_{i=b+1}^{N^2} \\frac{2i - 1}{N^2} \\\\\n",
    "    &= \\frac{1}{N^4}(-4\\,b^3 + 6\\,b^2 + 4\\,b\\,(N^2-1) - 2\\,N^2+1)\n",
    "\\end{align}\n",
    "$$\n",
    "\n",
    "And from PMF it's easy to find CMF\n",
    "\n",
    "$$\n",
    "\\begin{align}\n",
    "p(\\min(\\max(x, y), \\max(u, v)) \\leq b) = \\frac{1}{N^4}(2\\,b^2\\,N^2 - b^4)\n",
    "\\end{align}\n",
    "$$"
   ]
  },
  {
   "cell_type": "markdown",
   "metadata": {
    "deletable": true,
    "editable": true
   },
   "source": [
    "### Advantage of disadvantages"
   ]
  },
  {
   "cell_type": "markdown",
   "metadata": {
    "deletable": true,
    "editable": true
   },
   "source": [
    "For this problem we can apply general formula for advantages\n",
    "\n",
    "$$\n",
    "\\begin{align}\n",
    "p(\\max(\\min(x, y), \\min(u, v)) = b) = 2\\,p(b)\\,\\sum_{i=1}^{b-1} p(i) + p(b)^2 \\\\\n",
    "\\end{align}\n",
    "$$\n",
    "\n",
    "And similarly we can derive PMF\n",
    "\n",
    "$$\n",
    "\\begin{align}\n",
    "p(\\max(\\min(x, y), \\min(u, v)) = b) = \\frac{1}{N^4}(\n",
    "    &4\\,b^3 - 6\\,b^2\\,(2\\,N + 1)\\,+ \\\\\n",
    "    &+4\\,b\\,(2\\,N^2 + 3\\,N + 1) - (2\\,N+1)^2)\n",
    "\\end{align}\n",
    "$$\n",
    "\n",
    "And as before we can calculate CMF\n",
    "\n",
    "$$\n",
    "\\begin{align}\n",
    "p(\\max(\\min(x, y), \\min(u, v)) \\leq b) = \\frac{1}{N^4}(b^4 - 4Nb^3 + 4N^2b^2)\n",
    "\\end{align}\n",
    "$$"
   ]
  },
  {
   "cell_type": "markdown",
   "metadata": {
    "deletable": true,
    "editable": true
   },
   "source": [
    "## Which strategy is more likely to produce 20?"
   ]
  },
  {
   "cell_type": "markdown",
   "metadata": {
    "deletable": true,
    "editable": true
   },
   "source": [
    "From the PMF we can set \\\\(N=b=20\\\\) and check the results\n",
    "\n",
    "- Single roll strategy: \\\\(p(x = 20) = 0.05\\\\)\n",
    "- Disadvantage of advantages: \\\\(p(x = 20) = \\frac{39^2}{400^2} \\approx 0.01 \\\\)\n",
    "- Advantage of disadvantage: \\\\(p(x = 20) = \\frac{801}{400^2} \\approx 0.005 \\\\)"
   ]
  },
  {
   "cell_type": "markdown",
   "metadata": {
    "deletable": true,
    "editable": true
   },
   "source": [
    "From these values we can see that a signle dice roll is a much more likely to produce 20 on a 20-sided dice."
   ]
  },
  {
   "cell_type": "markdown",
   "metadata": {
    "deletable": true,
    "editable": true
   },
   "source": [
    "## Which strategy is more likely to produce value above some fixed number?"
   ]
  },
  {
   "cell_type": "markdown",
   "metadata": {
    "deletable": true,
    "editable": true
   },
   "source": [
    "For this problem we need to focus on CMF values.\n",
    "\n",
    "$$\n",
    "P(x\\geq b) \\geq P(y\\geq b) \\\\\n",
    "1 - P(x\\lt b) \\geq 1 \\ - P(y\\lt b) \\\\\n",
    "1 - P(x\\leq b - 1) \\geq 1 \\ - P(y\\leq b - 1) \\\\\n",
    "P(x\\leq b - 1) \\leq P(y\\leq b - 1)\n",
    "$$\n",
    "\n",
    "we will try to find for which \\\\(b\\\\)s the following inequality holds, but we need to remember that true values needs to be adjusted by one unit\n",
    "\n",
    "$$\n",
    "P(x\\leq b) \\leq P(y\\leq b)\n",
    "$$"
   ]
  },
  {
   "cell_type": "markdown",
   "metadata": {
    "deletable": true,
    "editable": true
   },
   "source": [
    "### Comparing disadvantage of advantages with advantage of disadvantages"
   ]
  },
  {
   "cell_type": "markdown",
   "metadata": {
    "deletable": true,
    "editable": true
   },
   "source": [
    "\n",
    "$$\n",
    "\\begin{align}\n",
    "P(x\\leq b) &\\leq P(y\\leq b) \\\\\n",
    "p(\\min(\\max(x, y), \\max(u, v)) \\leq b) &\\leq p(\\max(\\min(x, y), \\min(u, v)) \\leq b) \\\\\n",
    "\\frac{1}{N^4}(2\\,b^2\\,N^2 - b^4) &\\leq \\frac{1}{N^4}(b^4 - 4Nb^3 + 4N^2b^2)\n",
    "\\end{align}\n",
    "$$\n",
    "\n",
    "by rearranging the terms we can find that this inequality holds when \n",
    "\n",
    "$$\n",
    "(b-N)^2 \\geq 0\n",
    "$$\n",
    "\n",
    "and this is true for every \\\\(b\\\\) which means that **disadvantage of advantages is always better compare to advantage of disadvantages**.\n",
    "\n",
    "\n",
    "\n",
    "\n"
   ]
  },
  {
   "cell_type": "markdown",
   "metadata": {
    "deletable": true,
    "editable": true
   },
   "source": [
    "### Comparing disadvantage of advantages with a single roll strategy"
   ]
  },
  {
   "cell_type": "markdown",
   "metadata": {
    "deletable": true,
    "editable": true
   },
   "source": [
    "\n",
    "$$\n",
    "\\begin{align}\n",
    "P(x\\leq b) &\\leq P(y\\leq b) \\\\\n",
    "p(\\min(\\max(x, y), \\max(u, v)) \\leq b) &\\leq p(z \\leq b) \\\\\n",
    "\\frac{1}{N^4}(2\\,b^2\\,N^2 - b^4) &\\leq \\frac{b}{N}\n",
    "\\end{align}\n",
    "$$\n",
    "\n",
    "by rearranging the terms we can find that this inequality holds when \n",
    "\n",
    "$$\n",
    "(N - b)(N^2 - N\\,b - b^2) \\geq 0\n",
    "$$\n",
    "\n",
    "and since \\\\(N \\geq b\\\\) the whole inequality will be true when \\\\((N^2 - N\\,b - b^2) \\geq 0\\\\). This is a quadratic equation with two roots.\n",
    "\n",
    "$$\n",
    "(N^2 - N\\,b - b^2) = -(b + N \\phi)(b - \\frac{N}{\\phi})\n",
    "$$\n",
    "\n",
    "where \\\\(\\phi\\\\) is a golden ration\n",
    "\n",
    "$$\n",
    "\\phi = \\frac{\\sqrt{5} + 1}{2}\n",
    "$$\n",
    "\n",
    "And this equation could be greater than 0 only when \\\\(b \\leq \\frac{N}{\\phi}\\\\) (although since \\\\(\\phi\\\\) is irrational and \\\\(N\\\\) and \\\\(b\\\\) are integers equality will never be possible).\n",
    "\n",
    "But in the original equation we subtracted 1 from \\\\(b\\\\) which means that the following condition should be true in order to have better probability of reaching the desired result with disadvantage of advantages strategy compared to the single roll strategy.\n",
    "\n",
    "$$\n",
    "b \\leq \\frac{N}{\\phi} + 1\n",
    "$$\n",
    "\n",
    "\n"
   ]
  },
  {
   "cell_type": "markdown",
   "metadata": {
    "deletable": true,
    "editable": true
   },
   "source": [
    "### Comparing advantage of disadvantages with a single roll strategy"
   ]
  },
  {
   "cell_type": "markdown",
   "metadata": {
    "deletable": true,
    "editable": true
   },
   "source": [
    "\n",
    "$$\n",
    "\\begin{align}\n",
    "P(x\\leq b) &\\leq P(y\\leq b) \\\\\n",
    "p(\\max(\\min(x, y), \\min(u, v)) \\leq b) &\\leq p(z \\leq b) \\\\\n",
    "\\frac{1}{N^4}(b^4 - 4Nb^3 + 4N^2b^2) &\\leq \\frac{b}{N}\n",
    "\\end{align}\n",
    "$$\n",
    "\n",
    "by rearranging the terms we can find that this inequality holds when \n",
    "\n",
    "$$\n",
    "(N - b)(b^2 - 3bN + N^2) \\geq 0\n",
    "$$\n",
    "\n",
    "and as before, since \\\\(N - b \\geq 0\\\\) we only need to have the following inequality to hold\n",
    "\n",
    "$$\n",
    "b^2 - 3bN + N^2 \\geq 0\n",
    "$$\n",
    "\n",
    "quadratic equation has two roots and could be written in the following form\n",
    "\n",
    "$$\n",
    "b^2 - 3bN + N^2 = (b - \\phi^2 N)\\left(b - \\frac{N}{\\phi^2}\\right)\n",
    "$$\n",
    "\n",
    "left term is always negative for \\\\(b \\leq N\\\\) which means that the only condition when above equation holds can happen only when \n",
    "\n",
    "$$\n",
    "b \\leq \\frac{N}{\\phi^2}\n",
    "$$\n",
    "\n",
    "and as before we need to add 1, because \\\\(b - 1\\\\) was replaced with \\\\(b\\\\) in the initial equation\n",
    "\n",
    "$$\n",
    "b \\leq \\frac{N}{\\phi^2} + 1\n",
    "$$"
   ]
  },
  {
   "cell_type": "markdown",
   "metadata": {
    "deletable": true,
    "editable": true
   },
   "source": [
    "## Conclusion"
   ]
  },
  {
   "cell_type": "markdown",
   "metadata": {
    "deletable": true,
    "editable": true
   },
   "source": [
    "Assuming that \\\\(N=20\\\\) the following conclusions could be made\n",
    "\n",
    "1. Disadvantage of advantages is always better than advantage of disadvantages\n",
    "2. Disadvantage of advantages is better than single roll only when \\\\(b \\leq 13\\\\)\n",
    "3. Advantage of disadvantages is better than single roll only when \\\\(b \\leq 8\\\\)\n"
   ]
  },
  {
   "cell_type": "markdown",
   "metadata": {
    "deletable": true,
    "editable": true
   },
   "source": [
    "## Simulations"
   ]
  },
  {
   "cell_type": "markdown",
   "metadata": {
    "deletable": true,
    "editable": true
   },
   "source": [
    "All of the conclusions could be verified with simple simulations\n",
    "\n",
    "- [Simulation #1](https://gist.github.com/itdxer/a9556e09a2c5ee1e0c9226419d79eb80)\n",
    "- [Simulation #2](https://gist.github.com/itdxer/8a5d073965abaeb0a3bc2cab3b9951fc)"
   ]
  },
  {
   "cell_type": "code",
   "execution_count": null,
   "metadata": {
    "collapsed": true,
    "deletable": true,
    "editable": true
   },
   "outputs": [],
   "source": []
  }
 ],
 "metadata": {
  "kernelspec": {
   "display_name": "Python 3",
   "language": "python",
   "name": "python3"
  },
  "language_info": {
   "codemirror_mode": {
    "name": "ipython",
    "version": 3
   },
   "file_extension": ".py",
   "mimetype": "text/x-python",
   "name": "python",
   "nbconvert_exporter": "python",
   "pygments_lexer": "ipython3",
   "version": "3.6.0"
  },
  "toc": {
   "nav_menu": {},
   "number_sections": true,
   "sideBar": true,
   "skip_h1_title": false,
   "toc_cell": false,
   "toc_position": {},
   "toc_section_display": "block",
   "toc_window_display": false
  }
 },
 "nbformat": 4,
 "nbformat_minor": 2
}
