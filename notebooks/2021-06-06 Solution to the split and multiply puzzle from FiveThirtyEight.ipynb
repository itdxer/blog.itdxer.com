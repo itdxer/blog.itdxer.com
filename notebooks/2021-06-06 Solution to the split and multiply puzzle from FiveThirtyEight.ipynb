{
 "cells": [
  {
   "cell_type": "markdown",
   "metadata": {
    "articleTags": [
     "math",
     "puzzle"
    ],
    "tags": [
     "Description"
    ]
   },
   "source": []
  },
  {
   "cell_type": "markdown",
   "metadata": {},
   "source": [
    "## Problem\n",
    "\n",
    "> Max the Mathemagician is calling for volunteers. He has a magic wand of length 10 that can be broken anywhere along its length (fractional and decimal lengths are allowed). After the volunteer chooses these breakpoints, Max will multiply the lengths of the resulting pieces. For example, if they break the wand near its midpoint and nowhere else, the resulting product is 5×5, or 25. If the product is the largest possible, they will win a free backstage pass to his next show. (Amazing, right?)\n",
    ">\n",
    "> You raise your hand to volunteer, and you and Max briefly make eye contact. As he calls you up to the stage, you know you have this in the bag. What is the maximum product you can achieve?\n",
    ">\n",
    "> Extra credit: Zax the Mathemagician (no relation to Max) has the same routine in his show, only the wand has a length of 100. What is the maximum product now?"
   ]
  },
  {
   "cell_type": "markdown",
   "metadata": {},
   "source": [
    "## General solution"
   ]
  },
  {
   "cell_type": "markdown",
   "metadata": {},
   "source": [
    "The problem can be split into two parts. First, we want to decide into how many pieces do we want to split the line, and second, what should be the length of each line segment. Let's focus on the second part of the problem first."
   ]
  },
  {
   "cell_type": "markdown",
   "metadata": {},
   "source": [
    "### Optimal sizes of the segments"
   ]
  },
  {
   "cell_type": "markdown",
   "metadata": {},
   "source": [
    "We start with a line of length \\\\(L\\\\) and we want to split it into \\\\(n\\\\) segments with length \\\\(x_1\\\\), \\\\(x_2\\\\), ..., \\\\(x_n\\\\) such that \\\\(x_1 + x_2 + ... + x_n = L\\\\) and \\\\(x_i \\gt 0 \\, \\forall i \\in \\\\{1, 2, ..., n\\\\}\\\\). For a given \\\\(n\\\\), we want to find a split that maximizes the following function\n",
    "\n",
    "$$\n",
    "f(x_1, x_2, ..., x_n) = \\prod_{i=1}^{n} x_i\n",
    "$$\n",
    "\n",
    "Maximum won't be affected if we apply a monotonically increasing function or scale it by a positive constant\n",
    "\n",
    "$$\n",
    "\\begin{align}\n",
    "\\underset{x_1, x_2, ..., x_n}{\\operatorname{arg\\,max}} \\, f(x_1, x_2, ..., x_n)\n",
    "&= \\underset{x_1, x_2, ..., x_n}{\\operatorname{arg\\,max}} \\ln\\,f(x_1, x_2, ..., x_n) \\\\\n",
    "&= \\underset{x_1, x_2, ..., x_n}{\\operatorname{arg\\,max}} \\frac{1}{n} \\ln\\,f(x_1, x_2, ..., x_n)\\\\\n",
    "&= \\underset{x_1, x_2, ..., x_n}{\\operatorname{arg\\,max}} \\frac{1}{n} \\sum_{i=1}^{n} \\ln\\,x_i\n",
    "\\end{align}   \n",
    "$$\n",
    "\n",
    "Since logarithm is a concave function, we can apply [Jensen's inequality](https://en.wikipedia.org/wiki/Jensen%27s_inequality) to find an upper bound for the transformed function \\\\(f\\\\)\n",
    "\n",
    "$$\n",
    "\\frac{1}{n} \\sum_{i=1}^{n} \\ln\\,x_i \\leq \\ln \\left(\\frac{1}{n} \\sum_{i=1}^{n} \\,x_i\\right) = \\ln \\frac{L}{n}\n",
    "$$\n",
    "\n",
    "Multiplying both sides by \\\\(n\\\\) and exponentiating we find that\n",
    "\n",
    "$$\n",
    "\\prod_{i=1}^{n} x_i \\leq \\left(\\frac{L}{n}\\right)^n\n",
    "$$\n",
    "\n",
    "or alternatively\n",
    "\n",
    "$$\n",
    "f(x_1, x_2, ..., x_n) \\leq f\\left(\\frac{L}{n}, \\frac{L}{n}, ..., \\frac{L}{n}\\right)\n",
    "$$\n",
    "\n",
    "It shows that dividing line \\\\(L\\\\) into equal pieces maximizes the product of the remaining parts when \\\\(n\\\\) is fixed.\n"
   ]
  },
  {
   "cell_type": "markdown",
   "metadata": {},
   "source": [
    "### Optimal number of segments"
   ]
  },
  {
   "cell_type": "markdown",
   "metadata": {},
   "source": [
    "Now we need to find a solution to the following problem\n",
    "\n",
    "$$\n",
    "\\mathbf{\\max_{n \\in N}} \\, g(n) = \\mathbf{\\max_{n \\in N}} \\, \\left(\\frac{L}{n}\\right)^n\n",
    "$$"
   ]
  },
  {
   "cell_type": "markdown",
   "metadata": {},
   "source": [
    "We can calculate the derivative in order to find extremum (for \\\\(n \\in R\\\\) and \\\\(n \\gt 0\\\\))\n",
    "\n",
    "$$\n",
    "\\begin{align}\n",
    "\\frac{dg}{dn} &= \\frac{d}{dn} \\left(\\frac{L}{n}\\right)^n \\\\\n",
    "              &= \\frac{d}{dn} e^{n \\ln \\frac{L}{n}} \\\\\n",
    "              &= g(n) \\ln \\frac{L}{n\\,e}\n",
    "\\end{align}\n",
    "$$\n",
    "\n",
    "since \\\\(g(n) \\gt 0 \\\\), the derivative is equal to zero only when \\\\(n=\\frac{L}{e}\\\\). With a second derivative, we can show that discovered solution is a maximum\n",
    "\n",
    "$$\n",
    "\\begin{align}\n",
    "\\frac{d^2g}{dn^2} &= g(n) \\left(\\left(\\ln \\frac{L}{e\\,n}\\right)^2-\\frac{1}{n}\\right)\n",
    "\\end{align}\n",
    "$$\n",
    "\n",
    "It's easy to check that for \\\\(n=\\frac{L}{e}\\\\), the second derivative is negative, which shows that the discovered solution is a maximum.\n",
    "\n",
    "One last part of the problem remains since we initially wanted to discover integer solutions, but the discovered solution is not even a rational number when \\\\(L\\\\) is a rational number. Integer solutions can be found by noticing that the derivative increases in the region \\\\((0, \\frac{L}{e})\\\\) and decreases in the region \\\\((\\frac{L}{e}, +\\infty)\\\\). This implies that the two closest integer solutions (\\\\(\\left\\lfloor \\frac{L}{e} \\right\\rfloor\\\\) and \\\\(\\left\\lceil \\frac{L}{e} \\right\\rceil\\\\)) are the only two candidates since all of the integers further away from the candidates are smaller.\n",
    "\n",
    "With only two possible candidates, it's easy to check which one has the largest value just by evaluating \\\\(g(n)\\\\) at both points and selecting the one that produces the largest value."
   ]
  },
  {
   "cell_type": "markdown",
   "metadata": {},
   "source": [
    "## Solution"
   ]
  },
  {
   "cell_type": "markdown",
   "metadata": {},
   "source": [
    "In order to answer the question above we need to find \\\\(n\\\\) using the procedure derived in the previous section for \\\\(L=10\\\\) and \\\\(L=100\\\\).\n",
    "\n",
    "<table>\n",
    "<tr>\n",
    "    <th>Length</th>\n",
    "    <th>Best number of splits</th>\n",
    "    <th>Largest possible product</th>\n",
    "</tr>\n",
    "<tr>\n",
    "    <td>10</td>\n",
    "    <td>4</td>\n",
    "    <td>\n",
    "    \\begin{eqnarray}\n",
    "    \\frac{625}{16}=39.0625\n",
    "    \\end{eqnarray}</td>\n",
    "</tr>\n",
    "<tr>\n",
    "    <td>100</td>\n",
    "    <td>37</td>\n",
    "    <td>\n",
    "    \\begin{eqnarray}\n",
    "    \\left(\\frac{100}{37}\\right)^{37} \\approx 9.474 \\cdot 10^{15}\n",
    "    \\end{eqnarray}\n",
    "    </td>\n",
    "</tr>\n",
    "</table>"
   ]
  }
 ],
 "metadata": {
  "celltoolbar": "Edit Metadata",
  "kernelspec": {
   "display_name": "Python 3 (ipykernel)",
   "language": "python",
   "name": "python3"
  },
  "language_info": {
   "codemirror_mode": {
    "name": "ipython",
    "version": 3
   },
   "file_extension": ".py",
   "mimetype": "text/x-python",
   "name": "python",
   "nbconvert_exporter": "python",
   "pygments_lexer": "ipython3",
   "version": "3.11.1"
  }
 },
 "nbformat": 4,
 "nbformat_minor": 2
}
