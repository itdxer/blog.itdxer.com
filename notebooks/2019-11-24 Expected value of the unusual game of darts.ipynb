{
 "cells": [
  {
   "cell_type": "code",
   "execution_count": 1,
   "metadata": {
    "ExecuteTime": {
     "end_time": "2019-11-24T15:18:19.869442Z",
     "start_time": "2019-11-24T16:18:19.194356+01:00"
    },
    "collapsed": true,
    "deletable": true,
    "editable": true
   },
   "outputs": [],
   "source": [
    "import matplotlib.pyplot as plt\n",
    "import matplotlib.patches as patches\n",
    "%matplotlib inline\n",
    "\n",
    "colors = [value['color'] for value in plt.rcParams['axes.prop_cycle']]\n",
    "blue, green, red = colors[0], colors[2], colors[3]"
   ]
  },
  {
   "cell_type": "code",
   "execution_count": 2,
   "metadata": {
    "ExecuteTime": {
     "end_time": "2019-11-24T15:18:19.878545Z",
     "start_time": "2019-11-24T16:18:19.871441+01:00"
    },
    "collapsed": false,
    "deletable": true,
    "editable": true
   },
   "outputs": [
    {
     "data": {
      "text/html": [
       "\n",
       "<style>\n",
       "img {margin: 0 auto;}\n",
       "iframe {display: block; margin: 0 auto; padding-bottom: 1.5em;}\n",
       ".center {text-align: center;}\n",
       "twitter-widget {margin: 0 auto;}\n",
       "</style>\n"
      ],
      "text/plain": [
       "<IPython.core.display.HTML object>"
      ]
     },
     "execution_count": 2,
     "metadata": {},
     "output_type": "execute_result"
    }
   ],
   "source": [
    "from IPython.core.display import HTML\n",
    "HTML(\"\"\"\n",
    "<style>\n",
    "img {margin: 0 auto;}\n",
    "iframe {display: block; margin: 0 auto; padding-bottom: 1.5em;}\n",
    ".center {text-align: center;}\n",
    "twitter-widget {margin: 0 auto;}\n",
    "</style>\n",
    "\"\"\")"
   ]
  },
  {
   "cell_type": "markdown",
   "metadata": {
    "deletable": true,
    "editable": true
   },
   "source": [
    "## Problem"
   ]
  },
  {
   "cell_type": "markdown",
   "metadata": {
    "deletable": true,
    "editable": true
   },
   "source": [
    "Solution for the puzzle introduced in the Numberphile video named \"Darts in Higher dimensions\""
   ]
  },
  {
   "cell_type": "code",
   "execution_count": 3,
   "metadata": {
    "ExecuteTime": {
     "end_time": "2019-11-24T15:18:20.012819Z",
     "start_time": "2019-11-24T16:18:20.007454+01:00"
    },
    "collapsed": false,
    "deletable": true,
    "editable": true
   },
   "outputs": [
    {
     "data": {
      "text/html": [
       "\n",
       "<iframe width=\"560\" height=\"315\" src=\"https://www.youtube.com/embed/6_yU9eJ0NxA\" frameborder=\"0\" allow=\"accelerometer; autoplay; encrypted-media; gyroscope; picture-in-picture\" allowfullscreen></iframe>\n"
      ],
      "text/plain": [
       "<IPython.core.display.HTML object>"
      ]
     },
     "execution_count": 3,
     "metadata": {},
     "output_type": "execute_result"
    }
   ],
   "source": [
    "HTML(\"\"\"\n",
    "<iframe width=\"560\" height=\"315\" src=\"https://www.youtube.com/embed/6_yU9eJ0NxA\" frameborder=\"0\" allow=\"accelerometer; autoplay; encrypted-media; gyroscope; picture-in-picture\" allowfullscreen></iframe>\n",
    "\"\"\")"
   ]
  },
  {
   "cell_type": "markdown",
   "metadata": {
    "deletable": true,
    "editable": true
   },
   "source": [
    "This problem is based on the following tweet"
   ]
  },
  {
   "cell_type": "code",
   "execution_count": 4,
   "metadata": {
    "ExecuteTime": {
     "end_time": "2019-11-24T15:18:22.049556Z",
     "start_time": "2019-11-24T16:18:22.044699+01:00"
    },
    "collapsed": false,
    "deletable": true,
    "editable": true
   },
   "outputs": [
    {
     "data": {
      "text/html": [
       "\n",
       "<blockquote class=\"twitter-tweet\" data-lang=\"en\"><p lang=\"en\" dir=\"ltr\">[1/2] In the game of HyperDarts, the bull’s eye starts out with a diameter of 1, but each dart that lands reduces it to the length of the chord the dart lies on (or 0, if the dart is outside the bull’s eye). <a href=\"https://t.co/Ojz77MJNxj\">pic.twitter.com/Ojz77MJNxj</a></p>&mdash; Greg Egan (@gregeganSF) <a href=\"https://twitter.com/gregeganSF/status/1160461092973211648?ref_src=twsrc%5Etfw\">August 11, 2019</a></blockquote>\n",
       "<script async src=\"https://platform.twitter.com/widgets.js\" charset=\"utf-8\"></script>\n"
      ],
      "text/plain": [
       "<IPython.core.display.HTML object>"
      ]
     },
     "execution_count": 4,
     "metadata": {},
     "output_type": "execute_result"
    }
   ],
   "source": [
    "HTML(\"\"\"\n",
    "<blockquote class=\"twitter-tweet\" data-lang=\"en\"><p lang=\"en\" dir=\"ltr\">[1/2] In the game of HyperDarts, the bull’s eye starts out with a diameter of 1, but each dart that lands reduces it to the length of the chord the dart lies on (or 0, if the dart is outside the bull’s eye). <a href=\"https://t.co/Ojz77MJNxj\">pic.twitter.com/Ojz77MJNxj</a></p>&mdash; Greg Egan (@gregeganSF) <a href=\"https://twitter.com/gregeganSF/status/1160461092973211648?ref_src=twsrc%5Etfw\">August 11, 2019</a></blockquote>\n",
    "<script async src=\"https://platform.twitter.com/widgets.js\" charset=\"utf-8\"></script>\n",
    "\"\"\")"
   ]
  },
  {
   "cell_type": "markdown",
   "metadata": {
    "deletable": true,
    "editable": true
   },
   "source": [
    "## Disclaimer\n",
    "\n",
    "All of the results has been obtained before the answer was revealed in the video. Simple observations will match those mentioned in the video, but the core part is different and doesn't require building connection between problem and hyperspheres."
   ]
  },
  {
   "cell_type": "markdown",
   "metadata": {
    "deletable": true,
    "editable": true
   },
   "source": [
    "## Solution"
   ]
  },
  {
   "cell_type": "code",
   "execution_count": 18,
   "metadata": {
    "ExecuteTime": {
     "end_time": "2019-11-24T20:06:16.860268Z",
     "start_time": "2019-11-24T21:06:16.853939+01:00"
    },
    "collapsed": true,
    "deletable": true,
    "editable": true
   },
   "outputs": [],
   "source": [
    "def draw_square():\n",
    "    square = patches.Rectangle((-1, -1), 2, 2, edgecolor=blue, facecolor=blue, alpha=0.5)\n",
    "    square_outline = patches.Rectangle((-1, -1), 2, 2, edgecolor='black', fill=False, linewidth=2)\n",
    "    \n",
    "    ax = plt.gca()\n",
    "    ax.add_artist(square)\n",
    "    ax.add_artist(square_outline)\n",
    "    \n",
    "def draw_circle(radius, color=green):\n",
    "    circle = plt.Circle((0, 0), radius, color=color)\n",
    "    circle_outline = plt.Circle((0, 0), radius, color='black', fill=False, linewidth=2)\n",
    "    \n",
    "    ax = plt.gca()\n",
    "    ax.add_artist(circle)\n",
    "    ax.add_artist(circle_outline)\n",
    "    \n",
    "def prettify_plot():\n",
    "    plt.scatter([0], [0], color='black', zorder=1000)\n",
    "    \n",
    "    plt.xlim(-1.1, 1.1)\n",
    "    plt.ylim(-1.1, 1.1)\n",
    "    \n",
    "    plt.xticks([-1, 0, 1], [-1, 0, 1])\n",
    "    plt.yticks([-1, 0, 1], [-1, 0, 1])"
   ]
  },
  {
   "cell_type": "markdown",
   "metadata": {
    "deletable": true,
    "editable": true
   },
   "source": [
    "### Observations\n",
    "\n",
    "We always start a game with a score equal to 1, so we will never can get any score less then one, which means that expected score has to be greater than 1.\n",
    "\n",
    "Next, it's easy to calculate probability of gaining another score. Considering that points are sampled randomly from the uniformal distribution it's easy to calculate probability of gaining second score. All we need to do is just divide area of a circle by the area of a square.\n",
    "\n",
    "$$\n",
    "P(\\text{Gaining second score after the first throw}) = \\frac{S_{circle}}{S_{square}} = \\frac{\\pi r^2}{l^2} = \\frac{\\pi}{4}\n",
    "$$\n",
    "\n",
    "Probability is larger than 50% which means that more than half of the times we should gain second score. It means that the expected value also should be greater than 2."
   ]
  },
  {
   "cell_type": "markdown",
   "metadata": {
    "deletable": true,
    "editable": true
   },
   "source": [
    "### Calculating radius of the new circle\n",
    "\n",
    "It's easy to find radius of the new circle using Pythagorean theorem"
   ]
  },
  {
   "cell_type": "code",
   "execution_count": 13,
   "metadata": {
    "ExecuteTime": {
     "end_time": "2019-11-24T15:25:00.435416Z",
     "start_time": "2019-11-24T16:24:59.980751+01:00"
    },
    "collapsed": false,
    "deletable": true,
    "editable": true
   },
   "outputs": [
    {
     "data": {
      "image/png": "[encoded data removed]",
      "text/plain": [
       "<Figure size 1080x360 with 3 Axes>"
      ]
     },
     "metadata": {},
     "output_type": "display_data"
    }
   ],
   "source": [
    "fig, axes = plt.subplots(1, 3, figsize=(15, 5), sharey=True)\n",
    "\n",
    "titles = [\n",
    "    'Sample random point',\n",
    "    'Find distance to the point',\n",
    "    'Find radius of a circle for the next round',\n",
    "]\n",
    "plt.rc('text', usetex=False)\n",
    "default_font = dict(size=20)\n",
    "    \n",
    "for i, ax in enumerate(axes):\n",
    "    plt.sca(ax)\n",
    "    plt.title(titles[i])\n",
    "    \n",
    "    draw_square()\n",
    "    draw_circle(radius=1)\n",
    "    plt.scatter([0.5], [0.5], zorder=1000, color=red)\n",
    "    plt.axis('equal')\n",
    "    \n",
    "    if i >= 1:\n",
    "        plt.plot([0, 0.5], [0, 0.5], zorder=100, color=red)\n",
    "        plt.text(0.25, 0.2, \"d\", rotation=0, verticalalignment='center', fontdict=default_font)\n",
    "        \n",
    "    if i >= 2:\n",
    "        plt.plot([0, 0], [0, 1], zorder=100, color=red)\n",
    "        \n",
    "        plt.plot([0.5, 0], [0.5, 1], zorder=100, color=red)\n",
    "        plt.text(0.3, 0.75, \"r_new\", rotation=0, verticalalignment='center', fontdict=default_font)\n",
    "        \n",
    "        plt.plot([1, 0], [0, 1], zorder=100, color=red, alpha=0.5)\n",
    "        plt.scatter([0], [1], zorder=1000, color=red)\n",
    "        plt.text(-0.1, 0.5, \"r\", rotation=0, verticalalignment='center', fontdict=default_font)\n",
    "    \n",
    "    prettify_plot()\n",
    "    \n",
    "plt.tight_layout()\n",
    "plt.show()"
   ]
  },
  {
   "cell_type": "markdown",
   "metadata": {
    "deletable": true,
    "editable": true
   },
   "source": [
    "where,\n",
    "\n",
    "\\\\(r\\\\) - radius of a circle\n",
    "\n",
    "\\\\(d\\\\) - distance from center of a circle to a randomly samplde point within that circle\n",
    "\n",
    "$$\n",
    "d = \\sqrt{x^2 + y^2}, \\text{where } x, y \\text{ ~ } U(-1, 1)\n",
    "$$\n",
    "\n",
    "\\\\(r_{new}\\\\) - radius of a new circle\n",
    "\n",
    "$$\n",
    "r_{new} = \\sqrt{r^2 - d^2} = \\sqrt{r^2 - x^2 - y^2}\n",
    "$$\n",
    "\n",
    "or \n",
    "\n",
    "$$\n",
    "r_{new}^2 = r^2 - x^2 - y^2\n",
    "$$"
   ]
  },
  {
   "cell_type": "markdown",
   "metadata": {
    "deletable": true,
    "editable": true
   },
   "source": [
    "### Expected value\n",
    "\n",
    "From the definition of the expected value we know that\n",
    "\n",
    "$$\n",
    "\\mathbb{E}[s] = \\sum_{i=1}^{\\infty} i \\cdot {P(s = i)}\n",
    "$$\n",
    "\n",
    "Since we know that \\\\(i\\\\) is a positive integer we can rewrite this sequnce in the following way\n",
    "\n",
    "$$\n",
    "\\begin{align}\n",
    "\\mathbb{E}[s] &= \\sum_{i=1}^{\\infty} i \\cdot {P(s = i)} = \\\\\n",
    "              &= \\sum_{i=1}^{\\infty} \\sum_{j=1}^{i} {P(s = i)} = \\\\\n",
    "              &= \\sum_{j=1}^{\\infty} \\sum_{i=j}^{\\infty} {P(s = i)} = \\\\\n",
    "              &= \\sum_{j=1}^{\\infty} P(s \\geq j)\n",
    "\\end{align}\n",
    "$$\n",
    "\n",
    "We can unroll the sequence in order to look at a few first terms\n",
    "\n",
    "$$\n",
    "\\begin{align}\n",
    "\\mathbb{E}[s] &= \\sum_{i=1}^{\\infty} P(s \\geq i) \\\\\n",
    "              &= P(s \\geq 1) + P(s \\geq 2) + P(s \\geq 3) + P(s \\geq 4) + ...\n",
    "\\end{align}\n",
    "$$\n",
    "\n",
    "From the previous observatios we know that \\\\(P(s \\geq 1)=1\\\\) and \\\\(P(s \\geq 2)=\\frac{\\pi}{4}\\\\). Value for the \\\\(P(s \\geq 3)\\\\) is less straight forward, since new circle will depend on the random variable obtained from the previous round, but it can be calculated."
   ]
  },
  {
   "cell_type": "markdown",
   "metadata": {
    "deletable": true,
    "editable": true
   },
   "source": [
    "### Calculating \\\\(P(s \\geq 3)\\\\)\n",
    "\n",
    "#### Decomposing probability into simpler terms\n",
    "\n",
    "The biggest difference between \\\\(P(s \\geq 2)\\\\) and \\\\(P(s \\geq 3)\\\\) is that first one is based on the circle with a constant radius where in the second one it's random and based on the outcome of the first round.\n",
    "\n",
    "It's important to note that we can play second round only when the first one was successful, which means that \n",
    "\n",
    "$$\n",
    "P(s \\geq 3) = P(s \\geq 2) P(W\\text{ | }g=2)\n",
    "$$\n",
    "\n",
    "where, \\\\(P(W\\\\text{ | }g=2)\\\\) means probability of sampling random point within a circle in the second round (g=game, W=win)\n",
    "\n",
    "In fact, it's true for any round\n",
    "\n",
    "$$\n",
    "P(s \\geq i + 1) = P(s \\geq i) P(W\\text{ | }g=i)\n",
    "$$"
   ]
  },
  {
   "cell_type": "markdown",
   "metadata": {},
   "source": [
    "#### Distribution of circles for the next round\n",
    "\n",
    "Since in the second round radius of a circle is random, we need to find distribution of radiuses, before we can derive probability of winning the second round.\n",
    "\n",
    "We know the radius squared after successfull first round will be equal to\n",
    "\n",
    "$$\n",
    "r_{new}^2 = r^2 - x^2 - y^2\n",
    "$$\n",
    "\n",
    "From this formula, it's hard to see distrubution of squared radiuses for two reasons. First, random variables are squared and added together. Second, we cannot take into account all the numbers, since \\\\(r_{new}\\\\) cannot be calculated when the game was lost (for example, we lose when \\\\(x=1\\\\) and \\\\(y=1\\\\)), which means that original uniformal distrubution was modified (no it's conditioned on the fact that point is in the circle).\n",
    "\n",
    "Problem could be simplified by moving \\\\(x\\\\) and \\\\(y\\\\) into the polar coordinate system\n",
    "\n",
    "$$\n",
    "x = \\rho \\cos(\\phi)\n",
    "\\\\\n",
    "y = \\rho \\sin(\\phi)\n",
    "$$\n",
    "\n",
    "where\n",
    "\n",
    "$$\n",
    "\\begin{align}\n",
    "&\\rho = r \\sqrt{u} \\\\\n",
    "&u \\text{ ~ } U(0, 1) \\\\\n",
    "&\\phi \\text{ ~ } U(0, 2\\pi)\n",
    "\\end{align}\n",
    "$$\n",
    "\n",
    "Since we are interested in the \\\\(r_{new}^2\\\\) distribution \\\\(\\phi\\\\) can be ignored\n",
    "\n",
    "$$\n",
    "\\begin{align}\n",
    "r_{new}^2 &= r^2 - x^2 - y^2 = \\\\\n",
    "          &= r^2 - r^2 u \\cos^2(\\phi) - r^2 u \\sin^2(\\phi) = \\\\\n",
    "          &= r^2 (1 - u)\n",
    "\\end{align}\n",
    "$$\n",
    "\n",
    "since \\\\(u\\\\) is sampled from the uniformal distrubution, the \\\\(r_{new}^2\\\\) will be also sampled from the uniformal distribution (scaling and shifting doesn't have any effect on the frequency of the random variables and therefore shape of the distribution will remain unchanged). Because \\\\(S=\\pi \\cdot r^2\\\\), the distribution of circle areas is also uniformal."
   ]
  },
  {
   "cell_type": "markdown",
   "metadata": {
    "ExecuteTime": {
     "end_time": "2019-11-24T16:07:46.337667Z",
     "start_time": "2019-11-24T17:07:46.329610+01:00"
    },
    "deletable": true,
    "editable": true
   },
   "source": [
    "The closer randomly sampled point to the circle center the larger will be the radius of a new circle.\n",
    "\n",
    "$$\n",
    "d_1 > d_2 \\Rightarrow d_1^2 > d_2^2 \\Rightarrow r^2 - d_1^2 < r^2 - d_2^2 \\Rightarrow S_1 < S_2\n",
    "$$\n",
    "\n",
    "From this it follows that \n",
    "\n",
    "$$\n",
    "\\begin{align}\n",
    "P(W\\text{ | }g=2) &= E[x^2 + y^2 < r^2] = \\\\\n",
    "                  &= \\frac{\\mathbb{E}[S_o]}{4} = \\\\\n",
    "                  &= \\frac{\\pi \\cdot \\mathbb{E}[r_{new}^2]}{4} \\\\\n",
    "                  &= \\frac{\\pi \\cdot r^2 \\cdot (1 - \\mathbb{E}[u])}{4} \\\\\n",
    "                  &= \\frac{\\pi \\cdot r^2 \\cdot (1 - 0.5)}{4} \\\\\n",
    "                  &= \\frac{\\pi}{8}\n",
    "\\end{align}\n",
    "$$\n",
    "\n",
    "and\n",
    "\n",
    "$$\n",
    "\\begin{align}\n",
    "P(s \\geq 3) &= P(s \\geq 2) P(W\\text{ | }g=2) \\\\\n",
    "            &= \\frac{\\pi}{4} \\cdot \\frac{\\pi}{8} \\\\\n",
    "            &= \\frac{\\pi^2}{32}\n",
    "\\end{align}\n",
    "$$"
   ]
  },
  {
   "cell_type": "markdown",
   "metadata": {
    "deletable": true,
    "editable": true
   },
   "source": [
    "### Generalizing calculations for \\\\(P(s \\geq i)\\\\)"
   ]
  },
  {
   "cell_type": "markdown",
   "metadata": {
    "deletable": true,
    "editable": true
   },
   "source": [
    "The \\\\(P(s \\geq 4)\\\\) probability corresponds to the third throw and, as before, we need to find probability of hitting a circle for the third time \\\\(P(W\\text{ | }g=3)\\\\). Now problem got harder, since we need to estimate expected area of a circle after two successful throws. Calculations for the circle after one succsssful throw was easy, since the initial circle had a fixed radius. We want to know what is the average circle produced by every possible circle with center in the origin and radius less then or equal to the radius of the original circle.\n",
    "\n",
    "Let's consider two extrem cases. There is only one way of getting circle that has the same radius as the original after two throws. It can happen only if we hit the origin two times in a row. The other extrem cases is that we get circle with radius 0 which can happen only when we hit edge of a circle. There are way more possibilities of getting circle with radius equal to zero, since each possible circle produced after the first throw could be used to generate a new circle with a radius equal to zero. There are definitely more cases for the second extrem compare to the first one which means that distribution of the areas is no longer uniformal.\n",
    "\n",
    "Let's consider another case. What is the probability of getting a circle after the second throw with half the area of the original circle. We know that this number has to be greater than for area equal to \\\\(\\pi \\, r^2\\\\) and less than for the area equal to 0, since after the first throw we get circle with area \\\\(0.2 \\, \\pi \\, r^2\\\\) than we cannot get a circle with the area \\\\(0.5 \\, \\pi \\, r^2\\\\) after the second throw. The image below shows with a red color all of the points within a green circle that will not be able to produce new circle with radius greater than half of the original circle. Even if we will be able to hit the green area of the circle in the first throw our chances of getting a circle with the area \\\\(0.5 \\, \\pi \\, r^2\\\\) will be lower when generated point is closer to the origin."
   ]
  },
  {
   "cell_type": "code",
   "execution_count": 27,
   "metadata": {
    "ExecuteTime": {
     "end_time": "2019-11-24T20:29:19.733008Z",
     "start_time": "2019-11-24T21:29:19.578409+01:00"
    },
    "collapsed": false,
    "deletable": true,
    "editable": true
   },
   "outputs": [
    {
     "data": {
      "image/png": "[encoded data removed]",
      "text/plain": [
       "<Figure size 432x432 with 1 Axes>"
      ]
     },
     "metadata": {},
     "output_type": "display_data"
    }
   ],
   "source": [
    "plt.figure(figsize=(6, 6))\n",
    "draw_square()\n",
    "draw_circle(radius=1)\n",
    "draw_circle(radius=np.sqrt(0.5), color=red)\n",
    "prettify_plot()\n",
    "plt.tight_layout()"
   ]
  },
  {
   "cell_type": "markdown",
   "metadata": {
    "deletable": true,
    "editable": true
   },
   "source": [
    "We can calculate probability of getting a circle with certain radius squared \\\\(x\\\\) after the n-th throw by sampling circle with random radius from some unknown distrubution \\\\(p_n\\\\) and sample a new circle uniformly but throwing dart inside that circle. We can aggregate every possible combination using integral. As we noted before, we cannot sample every possible circle from every possible circle, because its impossible to sample large circle from a smaller one. Because of that only subset of circles allow us to sample circles with area equal to \\\\(\\pi \\, x\\\\). To be exact, there are only \\\\((1 - x)\\\\) circles that have this property."
   ]
  },
  {
   "cell_type": "markdown",
   "metadata": {
    "deletable": true,
    "editable": true
   },
   "source": [
    "since each throw hits circle randomly from uniformal distrubution, sampling a new circle will always have the same probability distrubution.\n",
    "\n",
    "$$\n",
    "p_h(z) = \\begin{cases}\n",
    "1,& 0\\leqslant z\\leqslant{1}\\\\\n",
    "0,&\\text{otherwise.}\n",
    "\\end{cases}\n",
    "$$\n",
    "\n",
    "a new circle with area equal to \\\\(x\\\\) after the n-th throw will have a probability density function (PDF) equal to \\\\(p_n\\\\)\n",
    "\n",
    "$$\n",
    "\\begin{align}\n",
    "p_n(x) &= \\frac{1}{P_n} \\, q_n(x) \\\\\n",
    "q_n(x) &= \\int_x^1 p_{n-1}(z) \\, p_h(z) \\, dz \\\\\n",
    "       &= \\int_x^1 p_{n-1}(z) \\, dz\n",
    "\\end{align}\n",
    "$$\n",
    "\n",
    "where \n",
    "\n",
    "$$\n",
    "P_n = \\int_0^1 q_{n}(x) dx\n",
    "$$"
   ]
  },
  {
   "cell_type": "markdown",
   "metadata": {
    "deletable": true,
    "editable": true
   },
   "source": [
    "We can provide by mathematical induction that the following is always true\n",
    "\n",
    "$$\n",
    "p_{n+1}(x) = (n+1) \\, (1 - x) ^ n\n",
    "$$\n",
    "\n",
    "we know that \\\\(p_1(x) = 1\\\\) which proves previous statement for \\\\(n=0\\\\). Now, let's assume that main statement is true and show that the same will be true \n",
    "\n",
    "$$\n",
    "\\begin{align}\n",
    "q_{n+2}(x) &= \\int_x^1 p_{n+1}(z) \\, dz \\\\\n",
    "           &= \\int_x^1 (n+1) \\, (1 - z) ^ n \\, dz \\\\\n",
    "           &= \\int_{1-x}^{0} -(n+1) \\, t ^ n \\, dt \\\\\n",
    "           &= \\left.-t^{n+1}\\right|_{1-x}^{0} = (1-x)^{n+1}\n",
    "\\end{align}\n",
    "$$\n",
    "\n",
    "we know that\n",
    "\n",
    "$$\n",
    "p_{n+2}(x) = \\frac{1}{P_{n+2}} \\, q_{n+2}(x)\n",
    "$$\n",
    "\n",
    "It's easy to show that \\\\(P_{n+2}=\\frac{1}{n+2}\\\\)\n",
    "\n",
    "$$\n",
    "\\begin{align}\n",
    "P_{n+2} &= \\int_0^1 q_{n+2}(x) dx \\\\\n",
    "        &= \\int_0^1 (1-x)^{n+1} dx \\\\\n",
    "        &= \\int_1^0 -(1-x)^{n+1} d(1-x) \\\\\n",
    "        &= \\int_1^0 -t^{n+1} dt \\\\\n",
    "        &= \\left.\\frac{-t^{n+2}}{n+2}\\right|_1^0 \\\\\n",
    "        &= \\frac{1}{n+2}\n",
    "\\end{align}\n",
    "$$\n",
    "\n",
    "and finally, we can see that \n",
    "\n",
    "$$\n",
    "p_{n+2}(x) = \\frac{1}{P_{n+2}} \\, q_{n+2}(x) = (n+2) \\, (1-x)^{n+1}\n",
    "$$\n",
    "\n",
    "Which proves our intial statement"
   ]
  },
  {
   "cell_type": "markdown",
   "metadata": {
    "deletable": true,
    "editable": true
   },
   "source": [
    "Finally, we see that\n",
    "\n",
    "$$\n",
    "\\begin{align}\n",
    "P(W\\text{ | }g=i) &= \\frac{\\pi}{4} \\, \\int_0^1 p_{n-1}(x) \\, x \\, dx \\\\\n",
    "                  &= \\frac{\\pi}{4} \\, \\int_0^1 (i-1) \\, (1 - x)^{i - 2} \\, x \\, dx \\\\\n",
    "                  &= \\frac{\\pi}{4} \\, (i-1) \\, \\int_1^0 t^{i - 2} \\, (t - 1) \\, dt \\\\\n",
    "                  &= \\frac{\\pi}{4} \\, (i-1) \\, (\\left.\\frac{t^i}{i}\\right|_1^0 - \\left.\\frac{t^{i-1}}{i-1}\\right|_1^0)\\\\\n",
    "                  &= \\frac{\\pi}{4} \\, (i-1) \\, (\\frac{1}{i-1} - \\frac{1}{i})\\\\\n",
    "                  &=\\frac{\\pi}{4i}\n",
    "\\end{align}\n",
    "$$"
   ]
  },
  {
   "cell_type": "markdown",
   "metadata": {
    "deletable": true,
    "editable": true
   },
   "source": [
    "### Final result\n"
   ]
  },
  {
   "cell_type": "markdown",
   "metadata": {
    "collapsed": true,
    "deletable": true,
    "editable": true
   },
   "source": [
    "The final result will look like this\n",
    "\n",
    "$$\n",
    "\\begin{align}\n",
    "\\mathbb{E}[s] &= P(s \\geq 1) + P(s \\geq 2) + P(s \\geq 3) + P(s \\geq 4) + ... \\\\\n",
    "              &= 1 + \\frac{\\pi}{4} + (\\frac{\\pi}{4})^2 \\, \\frac{1}{2} + (\\frac{\\pi}{4})^3 \\, \\frac{1}{6} + ... \\\\\n",
    "              &= \\sum_0^{\\infty} (\\frac{\\pi}{4})^i \\, \\frac{1}{i!}\n",
    "\\end{align}\n",
    "$$\n",
    "\n",
    "Expression above is just a taylor series expansion of the exponential function at the point \\\\(x=\\frac{\\pi}{4}\\\\)\n",
    "\n",
    "$$\n",
    "\\mathbb{E}[s] = e^{\\frac{\\pi}{4}}\n",
    "$$"
   ]
  },
  {
   "cell_type": "markdown",
   "metadata": {
    "deletable": true,
    "editable": true
   },
   "source": [
    "## Validating results with a simple simulation"
   ]
  },
  {
   "cell_type": "markdown",
   "metadata": {
    "deletable": true,
    "editable": true
   },
   "source": [
    "It's very easy to simulate this game 10 million times with a few lines of code. At the end, we can average all of the scores and compare obtained number with the answer. Because it's a simulation, we don't expect to see exactly the same number, but the average produced by a simulation should be very close to what we expect."
   ]
  },
  {
   "cell_type": "markdown",
   "metadata": {
    "deletable": true,
    "editable": true
   },
   "source": [
    "{% highlight sql %}\n",
    "import math\n",
    "import numpy as np\n",
    "\n",
    "n_trials = 10000000\n",
    "scores = []\n",
    "\n",
    "for _ in range(n_trials):\n",
    "    score = 1\n",
    "    radius = 1\n",
    "    \n",
    "    while True:\n",
    "        x, y = np.random.random(2) * 2 - 1\n",
    "        distance = np.sqrt(x ** 2 + y ** 2)\n",
    "        \n",
    "        if distance > radius:\n",
    "            # Game ends, we lost\n",
    "            break\n",
    "            \n",
    "        score += 1\n",
    "        radius = np.sqrt(radius ** 2 - distance ** 2)\n",
    "\n",
    "    scores.append(score)\n",
    "\n",
    "print(\"Expected score: {}\".format(np.exp(np.pi / 4)))\n",
    "print(\"Average score:  {}\".format(np.mean(scores)))\n",
    "{% endhighlight %}"
   ]
  },
  {
   "cell_type": "code",
   "execution_count": 17,
   "metadata": {
    "ExecuteTime": {
     "end_time": "2019-11-24T19:47:13.566204Z",
     "start_time": "2019-11-24T20:43:20.840502+01:00"
    },
    "collapsed": false,
    "deletable": true,
    "editable": true
   },
   "outputs": [
    {
     "name": "stdout",
     "output_type": "stream",
     "text": [
      "Expected score: 2.1932800507380152\n",
      "Average score:  2.1933543\n"
     ]
    }
   ],
   "source": [
    "import math\n",
    "import numpy as np\n",
    "\n",
    "n_trials = 10000000\n",
    "scores = []\n",
    "\n",
    "for _ in range(n_trials):\n",
    "    score = 1\n",
    "    radius = 1\n",
    "    \n",
    "    while True:\n",
    "        x, y = np.random.random(2) * 2 - 1\n",
    "        distance = np.sqrt(x ** 2 + y ** 2)\n",
    "        \n",
    "        if distance > radius:\n",
    "            # Game ends, we lost\n",
    "            break\n",
    "            \n",
    "        score += 1\n",
    "        radius = np.sqrt(radius ** 2 - distance ** 2)\n",
    "\n",
    "    scores.append(score)\n",
    "\n",
    "print(\"Expected score: {}\".format(np.exp(np.pi / 4)))\n",
    "print(\"Average score:  {}\".format(np.mean(scores)))"
   ]
  },
  {
   "cell_type": "markdown",
   "metadata": {
    "deletable": true,
    "editable": true
   },
   "source": [
    "Result from the simulation is quite close to the exact answer that we derived which increases confidence in the answer"
   ]
  }
 ],
 "metadata": {
  "kernelspec": {
   "display_name": "Python 3",
   "language": "python",
   "name": "python3"
  },
  "language_info": {
   "codemirror_mode": {
    "name": "ipython",
    "version": 3
   },
   "file_extension": ".py",
   "mimetype": "text/x-python",
   "name": "python",
   "nbconvert_exporter": "python",
   "pygments_lexer": "ipython3",
   "version": "3.6.0"
  },
  "toc": {
   "nav_menu": {},
   "number_sections": true,
   "sideBar": true,
   "skip_h1_title": false,
   "toc_cell": false,
   "toc_position": {},
   "toc_section_display": "block",
   "toc_window_display": false
  }
 },
 "nbformat": 4,
 "nbformat_minor": 2
}
